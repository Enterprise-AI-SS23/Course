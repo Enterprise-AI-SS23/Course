{
 "cells": [
  {
   "attachments": {},
   "cell_type": "markdown",
   "metadata": {
    "id": "TZ-PuwoyX4qQ"
   },
   "source": [
    "# Assignment 1\n",
    "\n",
    "In this assignment, you will get to practice using [TensorFlow Data Validation (TFDV)](https://cloud.google.com/solutions/machine-learning/analyzing-and-validating-data-at-scale-for-ml-using-tfx), an open-source Python package from the [TensorFlow Extended (TFX)](https://www.tensorflow.org/tfx) ecosystem. \n",
    "\n",
    "TFDV helps to understand, validate, and monitor production machine learning data at scale. It provides insight into some key questions in the data analysis process such as:\n",
    "\n",
    "* What are the underlying statistics of my data?\n",
    "\n",
    "* What does my training dataset look like?\n",
    "\n",
    "* How does my evaluation and serving datasets compare to the training dataset?\n",
    "\n",
    "* How can I find and fix data anomalies?\n",
    "\n",
    "The figure below summarizes the usual TFDV workflow:\n",
    "\n",
    "<img src='https://i.imgur.com/BtkrYQV.png' alt='picture of tfdv workflow'>\n",
    "\n",
    "As shown, you can use TFDV to compute descriptive statistics of the training data and generate a schema. You can then validate new datasets (e.g. the serving dataset from your customers) against this schema to detect and fix anomalies. This helps prevent the different types of skew. That way, you can be confident that your model is training on or predicting data that is consistent with the expected feature types and distribution.\n",
    "\n",
    "In this assignment, you will use TFDV in order to:\n",
    "\n",
    "* Generate and visualize statistics from a dataframe\n",
    "* Infer a dataset schema\n",
    "* Calculate, visualize and fix anomalies\n",
    "\n",
    "Let's begin!"
   ]
  },
  {
   "attachments": {},
   "cell_type": "markdown",
   "metadata": {
    "id": "ZEnMK4DRNV1O"
   },
   "source": [
    "<a name='1'></a>\n",
    "## 1 - Setup and Imports"
   ]
  },
  {
   "attachments": {},
   "cell_type": "markdown",
   "metadata": {},
   "source": [
    "The following package is pre-installed if you are using GitHub Codespaces. \n",
    "\n",
    "If you do not use GitHub Codespaces with the pre-installed Kernel, please consider creating a conda environment with Python 3.8 and install the following package manually."
   ]
  },
  {
   "cell_type": "code",
   "execution_count": 1,
   "metadata": {},
   "outputs": [],
   "source": [
    "# %%capture\n",
    "# pip install --upgrade 'protobuf<=3.20.1'",
    "# !pip install --upgrade pip \n",
    "# !pip install python-snappy\n",
    "# !pip install tensorflow_data_validation[visualization]"
   ]
  },
  {
   "cell_type": "code",
   "execution_count": 2,
   "metadata": {
    "id": "zrLPRsQgImel",
    "tags": [
     "graded"
    ]
   },
   "outputs": [
    {
     "name": "stderr",
     "output_type": "stream",
     "text": [
      "2023-05-09 12:50:17.272115: I tensorflow/tsl/cuda/cudart_stub.cc:28] Could not find cuda drivers on your machine, GPU will not be used.\n",
      "2023-05-09 12:50:17.317968: I tensorflow/tsl/cuda/cudart_stub.cc:28] Could not find cuda drivers on your machine, GPU will not be used.\n",
      "2023-05-09 12:50:17.318733: I tensorflow/core/platform/cpu_feature_guard.cc:182] This TensorFlow binary is optimized to use available CPU instructions in performance-critical operations.\n",
      "To enable the following instructions: AVX2 AVX512F FMA, in other operations, rebuild TensorFlow with the appropriate compiler flags.\n",
      "2023-05-09 12:50:18.370872: W tensorflow/compiler/tf2tensorrt/utils/py_utils.cc:38] TF-TRT Warning: Could not find TensorRT\n"
     ]
    }
   ],
   "source": [
    "# Import packages\n",
    "import os\n",
    "import pandas as pd\n",
    "import tensorflow as tf\n",
    "import tempfile, urllib, zipfile\n",
    "import tensorflow_data_validation as tfdv\n",
    "\n",
    "\n",
    "from tensorflow.python.lib.io import file_io\n",
    "from tensorflow_data_validation.utils import slicing_util\n",
    "from tensorflow_metadata.proto.v0.statistics_pb2 import DatasetFeatureStatisticsList, DatasetFeatureStatistics\n",
    "\n",
    "# Set TF's logger to only display errors to avoid internal warnings being shown\n",
    "tf.get_logger().setLevel('ERROR')"
   ]
  },
  {
   "attachments": {},
   "cell_type": "markdown",
   "metadata": {
    "id": "5MizoHg1DRlK"
   },
   "source": [
    "<a name='2'></a>\n",
    "## 2 - Load the Dataset\n",
    "You will be using the [Bank Marketing Data Set ](https://archive.ics.uci.edu/ml/datasets/Bank+Marketing). The dataset comprises information of \n",
    "bank marketing activities. It includes over 20 features regarding the conducted activites.\n",
    "\n",
    "This dataset has already been included in your Jupyter workspace. In addition, it is split up in training, evaluation and serving set so you can easily load it."
   ]
  },
  {
   "cell_type": "code",
   "execution_count": 3,
   "metadata": {
    "id": "YyO3RSuLF0Nf",
    "tags": [
     "graded"
    ]
   },
   "outputs": [
    {
     "data": {
      "text/html": [
       "<div>\n",
       "<style scoped>\n",
       "    .dataframe tbody tr th:only-of-type {\n",
       "        vertical-align: middle;\n",
       "    }\n",
       "\n",
       "    .dataframe tbody tr th {\n",
       "        vertical-align: top;\n",
       "    }\n",
       "\n",
       "    .dataframe thead th {\n",
       "        text-align: right;\n",
       "    }\n",
       "</style>\n",
       "<table border=\"1\" class=\"dataframe\">\n",
       "  <thead>\n",
       "    <tr style=\"text-align: right;\">\n",
       "      <th></th>\n",
       "      <th>age</th>\n",
       "      <th>job</th>\n",
       "      <th>marital</th>\n",
       "      <th>education</th>\n",
       "      <th>default</th>\n",
       "      <th>balance</th>\n",
       "      <th>housing</th>\n",
       "      <th>loan</th>\n",
       "      <th>contact</th>\n",
       "      <th>day</th>\n",
       "      <th>month</th>\n",
       "      <th>duration</th>\n",
       "      <th>campaign</th>\n",
       "      <th>pdays</th>\n",
       "      <th>previous</th>\n",
       "      <th>poutcome</th>\n",
       "      <th>y</th>\n",
       "    </tr>\n",
       "  </thead>\n",
       "  <tbody>\n",
       "    <tr>\n",
       "      <th>0</th>\n",
       "      <td>58</td>\n",
       "      <td>management</td>\n",
       "      <td>married</td>\n",
       "      <td>tertiary</td>\n",
       "      <td>no</td>\n",
       "      <td>2143</td>\n",
       "      <td>yes</td>\n",
       "      <td>no</td>\n",
       "      <td>unknown</td>\n",
       "      <td>5</td>\n",
       "      <td>may</td>\n",
       "      <td>261</td>\n",
       "      <td>1</td>\n",
       "      <td>-1</td>\n",
       "      <td>0</td>\n",
       "      <td>unknown</td>\n",
       "      <td>no</td>\n",
       "    </tr>\n",
       "    <tr>\n",
       "      <th>1</th>\n",
       "      <td>44</td>\n",
       "      <td>technician</td>\n",
       "      <td>single</td>\n",
       "      <td>secondary</td>\n",
       "      <td>no</td>\n",
       "      <td>29</td>\n",
       "      <td>yes</td>\n",
       "      <td>no</td>\n",
       "      <td>unknown</td>\n",
       "      <td>5</td>\n",
       "      <td>may</td>\n",
       "      <td>151</td>\n",
       "      <td>1</td>\n",
       "      <td>-1</td>\n",
       "      <td>0</td>\n",
       "      <td>unknown</td>\n",
       "      <td>no</td>\n",
       "    </tr>\n",
       "    <tr>\n",
       "      <th>2</th>\n",
       "      <td>33</td>\n",
       "      <td>entrepreneur</td>\n",
       "      <td>married</td>\n",
       "      <td>secondary</td>\n",
       "      <td>no</td>\n",
       "      <td>2</td>\n",
       "      <td>yes</td>\n",
       "      <td>yes</td>\n",
       "      <td>unknown</td>\n",
       "      <td>5</td>\n",
       "      <td>may</td>\n",
       "      <td>76</td>\n",
       "      <td>1</td>\n",
       "      <td>-1</td>\n",
       "      <td>0</td>\n",
       "      <td>unknown</td>\n",
       "      <td>no</td>\n",
       "    </tr>\n",
       "    <tr>\n",
       "      <th>3</th>\n",
       "      <td>47</td>\n",
       "      <td>blue-collar</td>\n",
       "      <td>married</td>\n",
       "      <td>unknown</td>\n",
       "      <td>no</td>\n",
       "      <td>1506</td>\n",
       "      <td>yes</td>\n",
       "      <td>no</td>\n",
       "      <td>unknown</td>\n",
       "      <td>5</td>\n",
       "      <td>may</td>\n",
       "      <td>92</td>\n",
       "      <td>1</td>\n",
       "      <td>-1</td>\n",
       "      <td>0</td>\n",
       "      <td>unknown</td>\n",
       "      <td>no</td>\n",
       "    </tr>\n",
       "    <tr>\n",
       "      <th>4</th>\n",
       "      <td>33</td>\n",
       "      <td>unknown</td>\n",
       "      <td>single</td>\n",
       "      <td>unknown</td>\n",
       "      <td>no</td>\n",
       "      <td>1</td>\n",
       "      <td>no</td>\n",
       "      <td>no</td>\n",
       "      <td>unknown</td>\n",
       "      <td>5</td>\n",
       "      <td>may</td>\n",
       "      <td>198</td>\n",
       "      <td>1</td>\n",
       "      <td>-1</td>\n",
       "      <td>0</td>\n",
       "      <td>unknown</td>\n",
       "      <td>no</td>\n",
       "    </tr>\n",
       "  </tbody>\n",
       "</table>\n",
       "</div>"
      ],
      "text/plain": [
       "   age           job  marital  education default  balance housing loan  \\\n",
       "0   58    management  married   tertiary      no     2143     yes   no   \n",
       "1   44    technician   single  secondary      no       29     yes   no   \n",
       "2   33  entrepreneur  married  secondary      no        2     yes  yes   \n",
       "3   47   blue-collar  married    unknown      no     1506     yes   no   \n",
       "4   33       unknown   single    unknown      no        1      no   no   \n",
       "\n",
       "   contact  day month  duration  campaign  pdays  previous poutcome   y  \n",
       "0  unknown    5   may       261         1     -1         0  unknown  no  \n",
       "1  unknown    5   may       151         1     -1         0  unknown  no  \n",
       "2  unknown    5   may        76         1     -1         0  unknown  no  \n",
       "3  unknown    5   may        92         1     -1         0  unknown  no  \n",
       "4  unknown    5   may       198         1     -1         0  unknown  no  "
      ]
     },
     "execution_count": 3,
     "metadata": {},
     "output_type": "execute_result"
    }
   ],
   "source": [
    "# Read CSV data into a dataframe and recognize the missing data that is encoded with '?' string as NaN\n",
    "train_df = pd.read_csv('data/bank_full_train.csv', header=0, na_values = '?', sep=\";\") # training dataset comprises 70% of the data\n",
    "eval_df = pd.read_csv('data/bank_full_eval.csv', header=0, na_values = '?', sep=\";\") # training dataset comprises 15% of the data\n",
    "serving_df = pd.read_csv('data/bank_full_serv.csv', header=0, na_values = '?', sep=\";\") # training dataset comprises 15% of the data\n",
    "\n",
    "# Serving data emulates the data that would be submitted for predictions, so it should not have the label column.\n",
    "serving_df = serving_df.drop(['y'], axis=1)\n",
    "\n",
    "# Preview the trainig dataset\n",
    "train_df.head()"
   ]
  },
  {
   "attachments": {},
   "cell_type": "markdown",
   "metadata": {
    "id": "Nnln8dH8Nmm8"
   },
   "source": [
    "<a name='3'></a>\n",
    "## 3 - Generate and Visualize Training Data Statistics\n",
    "\n",
    "In this section, you will be generating descriptive statistics from the dataset. This is usually the first step when dealing with a dataset you are not yet familiar with. It is also known as performing an *exploratory data analysis* and its purpose is to understand the data types, the data itself and any possible issues that need to be addressed.\n",
    "\n",
    "It is important to mention that **exploratory data analysis should be perfomed on the training dataset** only. This is because getting information out of the evaluation or serving datasets can be seen as \"cheating\" since this data is used to emulate data that you have not collected yet and will try to predict using your ML algorithm. **In general, it is a good practice to avoid leaking information from your evaluation and serving data into your model.**"
   ]
  },
  {
   "attachments": {},
   "cell_type": "markdown",
   "metadata": {
    "id": "CvHoWMcYNzIx"
   },
   "source": [
    "<a name='ex-1'></a>\n",
    "### Exercise 1: Generate Training Statistics "
   ]
  },
  {
   "attachments": {},
   "cell_type": "markdown",
   "metadata": {
    "id": "rQRND3yFRuxt"
   },
   "source": [
    "TFDV allows you to generate statistics from different data formats such as CSV or a Pandas DataFrame. \n",
    "\n",
    "Since you already have the data stored in a DataFrame you can use the function [`tfdv.generate_statistics_from_dataframe()`](https://www.tensorflow.org/tfx/data_validation/api_docs/python/tfdv/generate_statistics_from_dataframe) which, given a DataFrame and `stats_options`, generates an object of type `DatasetFeatureStatisticsList`. This object includes the computed statistics of the given dataset.\n",
    "\n",
    "Complete the cell below to generate the statistics of the training set. Remember to pass the training dataframe and the `stats_options` that you defined above as arguments."
   ]
  },
  {
   "cell_type": "code",
   "execution_count": 4,
   "metadata": {
    "id": "EE481oMbT-H0",
    "tags": [
     "graded"
    ]
   },
   "outputs": [],
   "source": [
    "# Collect features to include while computing the statistics\n",
    "cols = [col for col in train_df.columns]\n",
    "\n",
    "# Instantiate a StatsOptions class and define the feature_allowlist property\n",
    "stats_options = tfdv.StatsOptions(feature_allowlist=cols)\n",
    "\n",
    "### START CODE HERE\n",
    "train_stats = tfdv.generate_statistics_from_dataframe(train_df, stats_options)\n",
    "### END CODE HERE"
   ]
  },
  {
   "cell_type": "code",
   "execution_count": 5,
   "metadata": {
    "id": "2d7LjhhbRuxt",
    "tags": [
     "graded"
    ]
   },
   "outputs": [
    {
     "name": "stdout",
     "output_type": "stream",
     "text": [
      "Number of features used: 17\n",
      "Number of examples used: 31647\n",
      "First feature: age\n",
      "Last feature: y\n"
     ]
    }
   ],
   "source": [
    "# TEST CODE\n",
    "\n",
    "# get the number of features used to compute statistics\n",
    "print(f\"Number of features used: {len(train_stats.datasets[0].features)}\")\n",
    "\n",
    "# check the number of examples used\n",
    "print(f\"Number of examples used: {train_stats.datasets[0].num_examples}\")\n",
    "\n",
    "# check the column names of the first and last feature\n",
    "print(f\"First feature: {train_stats.datasets[0].features[0].path.step[0]}\")\n",
    "print(f\"Last feature: {train_stats.datasets[0].features[-1].path.step[0]}\")"
   ]
  },
  {
   "attachments": {},
   "cell_type": "markdown",
   "metadata": {
    "id": "IMK__o9qRuxu"
   },
   "source": [
    "**Expected Output:**\n",
    "\n",
    "```\n",
    "Number of features used: 17\n",
    "Number of examples used: 31647\n",
    "First feature: age\n",
    "Last feature: y\n",
    "```"
   ]
  },
  {
   "attachments": {},
   "cell_type": "markdown",
   "metadata": {
    "id": "ElOMvBOKNvLp"
   },
   "source": [
    "<a name='ex-2'></a>\n",
    "### Exercise 2: Visualize Training Statistics\n",
    "\n",
    "Now that you have the computed statistics in the `DatasetFeatureStatisticsList` instance, you will need a way to **visualize** these to get actual insights. TFDV provides this functionality through the method [`tfdv.visualize_statistics()`](https://www.tensorflow.org/tfx/data_validation/api_docs/python/tfdv/visualize_statistics).\n",
    "\n",
    "Using this function in an interactive Python environment such as this one will output a very nice and convenient way to interact with the descriptive statistics you generated earlier. \n",
    "\n",
    "**Try it out yourself!** Remember to pass in the generated training statistics in the previous exercise as an argument."
   ]
  },
  {
   "cell_type": "code",
   "execution_count": 6,
   "metadata": {
    "graded": true,
    "id": "U3tUKgh7Up3x",
    "name": "train_stats_visualize_statistics",
    "tags": [
     "graded"
    ]
   },
   "outputs": [
    {
     "data": {
      "text/html": [
       "<iframe id='facets-iframe' width=\"100%\" height=\"500px\"></iframe>\n",
       "        <script>\n",
       "        facets_iframe = document.getElementById('facets-iframe');\n",
       "        facets_html = '<script src=\"https://cdnjs.cloudflare.com/ajax/libs/webcomponentsjs/1.3.3/webcomponents-lite.js\"><\\/script><link rel=\"import\" href=\"https://raw.githubusercontent.com/PAIR-code/facets/master/facets-dist/facets-jupyter.html\"><facets-overview proto-input=\"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\"></facets-overview>';\n",
       "        facets_iframe.srcdoc = facets_html;\n",
       "         facets_iframe.id = \"\";\n",
       "         setTimeout(() => {\n",
       "           facets_iframe.setAttribute('height', facets_iframe.contentWindow.document.body.offsetHeight + 'px')\n",
       "         }, 1500)\n",
       "         </script>"
      ],
      "text/plain": [
       "<IPython.core.display.HTML object>"
      ]
     },
     "metadata": {},
     "output_type": "display_data"
    }
   ],
   "source": [
    "### START CODE HERE\n",
    "tfdv.visualize_statistics(train_stats)\n",
    "### END CODE HERE"
   ]
  },
  {
   "attachments": {},
   "cell_type": "markdown",
   "metadata": {
    "id": "KVR02-y4V0uM"
   },
   "source": [
    "<a name='4'></a>\n",
    "## 4 - Infer a data schema"
   ]
  },
  {
   "attachments": {},
   "cell_type": "markdown",
   "metadata": {
    "id": "IPRioB7hZ03b"
   },
   "source": [
    "A schema defines the **properties of the data** and can thus be used to detect errors. Some of these properties include:\n",
    "\n",
    "- which features are expected to be present\n",
    "- feature type\n",
    "- the number of values for a feature in each example\n",
    "- the presence of each feature across all examples\n",
    "- the expected domains of features\n",
    "\n",
    "The schema is expected to be fairly static, whereas statistics can vary per data split. So, you will **infer the data schema from only the training dataset**. Later, you will generate statistics for evaluation and serving datasets and compare their state with the data schema to detect anomalies, drift and skew."
   ]
  },
  {
   "attachments": {},
   "cell_type": "markdown",
   "metadata": {
    "id": "eg8YsyVSRuxv"
   },
   "source": [
    "<a name='ex-3'></a>\n",
    "### Exercise 3: Infer the training set schema\n",
    "\n",
    "Schema inference is straightforward using [`tfdv.infer_schema()`](https://www.tensorflow.org/tfx/data_validation/api_docs/python/tfdv/infer_schema). This function needs only the **statistics** (an instance of `DatasetFeatureStatisticsList`) of your data as input. The output will be a Schema [protocol buffer](https://developers.google.com/protocol-buffers) containing the results.\n",
    "\n",
    "A complimentary function is [`tfdv.display_schema()`](https://www.tensorflow.org/tfx/data_validation/api_docs/python/tfdv/display_schema) for displaying the schema in a table. This accepts a **Schema** protocol buffer as input.\n",
    "\n",
    "Fill the code below to infer the schema from the training statistics using TFDV and display the result."
   ]
  },
  {
   "cell_type": "code",
   "execution_count": 7,
   "metadata": {
    "id": "6LLkRJThVr9m",
    "tags": [
     "graded"
    ]
   },
   "outputs": [
    {
     "data": {
      "text/html": [
       "<div>\n",
       "<style scoped>\n",
       "    .dataframe tbody tr th:only-of-type {\n",
       "        vertical-align: middle;\n",
       "    }\n",
       "\n",
       "    .dataframe tbody tr th {\n",
       "        vertical-align: top;\n",
       "    }\n",
       "\n",
       "    .dataframe thead th {\n",
       "        text-align: right;\n",
       "    }\n",
       "</style>\n",
       "<table border=\"1\" class=\"dataframe\">\n",
       "  <thead>\n",
       "    <tr style=\"text-align: right;\">\n",
       "      <th></th>\n",
       "      <th>Type</th>\n",
       "      <th>Presence</th>\n",
       "      <th>Valency</th>\n",
       "      <th>Domain</th>\n",
       "    </tr>\n",
       "    <tr>\n",
       "      <th>Feature name</th>\n",
       "      <th></th>\n",
       "      <th></th>\n",
       "      <th></th>\n",
       "      <th></th>\n",
       "    </tr>\n",
       "  </thead>\n",
       "  <tbody>\n",
       "    <tr>\n",
       "      <th>'age'</th>\n",
       "      <td>INT</td>\n",
       "      <td>required</td>\n",
       "      <td></td>\n",
       "      <td>-</td>\n",
       "    </tr>\n",
       "    <tr>\n",
       "      <th>'job'</th>\n",
       "      <td>STRING</td>\n",
       "      <td>required</td>\n",
       "      <td></td>\n",
       "      <td>'job'</td>\n",
       "    </tr>\n",
       "    <tr>\n",
       "      <th>'marital'</th>\n",
       "      <td>STRING</td>\n",
       "      <td>required</td>\n",
       "      <td></td>\n",
       "      <td>'marital'</td>\n",
       "    </tr>\n",
       "    <tr>\n",
       "      <th>'education'</th>\n",
       "      <td>STRING</td>\n",
       "      <td>required</td>\n",
       "      <td></td>\n",
       "      <td>'education'</td>\n",
       "    </tr>\n",
       "    <tr>\n",
       "      <th>'default'</th>\n",
       "      <td>STRING</td>\n",
       "      <td>required</td>\n",
       "      <td></td>\n",
       "      <td>'default'</td>\n",
       "    </tr>\n",
       "    <tr>\n",
       "      <th>'balance'</th>\n",
       "      <td>INT</td>\n",
       "      <td>required</td>\n",
       "      <td></td>\n",
       "      <td>-</td>\n",
       "    </tr>\n",
       "    <tr>\n",
       "      <th>'housing'</th>\n",
       "      <td>STRING</td>\n",
       "      <td>required</td>\n",
       "      <td></td>\n",
       "      <td>'housing'</td>\n",
       "    </tr>\n",
       "    <tr>\n",
       "      <th>'loan'</th>\n",
       "      <td>STRING</td>\n",
       "      <td>required</td>\n",
       "      <td></td>\n",
       "      <td>'loan'</td>\n",
       "    </tr>\n",
       "    <tr>\n",
       "      <th>'contact'</th>\n",
       "      <td>STRING</td>\n",
       "      <td>required</td>\n",
       "      <td></td>\n",
       "      <td>'contact'</td>\n",
       "    </tr>\n",
       "    <tr>\n",
       "      <th>'day'</th>\n",
       "      <td>INT</td>\n",
       "      <td>required</td>\n",
       "      <td></td>\n",
       "      <td>-</td>\n",
       "    </tr>\n",
       "    <tr>\n",
       "      <th>'month'</th>\n",
       "      <td>STRING</td>\n",
       "      <td>required</td>\n",
       "      <td></td>\n",
       "      <td>'month'</td>\n",
       "    </tr>\n",
       "    <tr>\n",
       "      <th>'duration'</th>\n",
       "      <td>INT</td>\n",
       "      <td>required</td>\n",
       "      <td></td>\n",
       "      <td>-</td>\n",
       "    </tr>\n",
       "    <tr>\n",
       "      <th>'campaign'</th>\n",
       "      <td>INT</td>\n",
       "      <td>required</td>\n",
       "      <td></td>\n",
       "      <td>-</td>\n",
       "    </tr>\n",
       "    <tr>\n",
       "      <th>'pdays'</th>\n",
       "      <td>INT</td>\n",
       "      <td>required</td>\n",
       "      <td></td>\n",
       "      <td>-</td>\n",
       "    </tr>\n",
       "    <tr>\n",
       "      <th>'previous'</th>\n",
       "      <td>INT</td>\n",
       "      <td>required</td>\n",
       "      <td></td>\n",
       "      <td>-</td>\n",
       "    </tr>\n",
       "    <tr>\n",
       "      <th>'poutcome'</th>\n",
       "      <td>STRING</td>\n",
       "      <td>required</td>\n",
       "      <td></td>\n",
       "      <td>'poutcome'</td>\n",
       "    </tr>\n",
       "    <tr>\n",
       "      <th>'y'</th>\n",
       "      <td>STRING</td>\n",
       "      <td>required</td>\n",
       "      <td></td>\n",
       "      <td>'y'</td>\n",
       "    </tr>\n",
       "  </tbody>\n",
       "</table>\n",
       "</div>"
      ],
      "text/plain": [
       "                Type  Presence Valency       Domain\n",
       "Feature name                                       \n",
       "'age'            INT  required                    -\n",
       "'job'         STRING  required                'job'\n",
       "'marital'     STRING  required            'marital'\n",
       "'education'   STRING  required          'education'\n",
       "'default'     STRING  required            'default'\n",
       "'balance'        INT  required                    -\n",
       "'housing'     STRING  required            'housing'\n",
       "'loan'        STRING  required               'loan'\n",
       "'contact'     STRING  required            'contact'\n",
       "'day'            INT  required                    -\n",
       "'month'       STRING  required              'month'\n",
       "'duration'       INT  required                    -\n",
       "'campaign'       INT  required                    -\n",
       "'pdays'          INT  required                    -\n",
       "'previous'       INT  required                    -\n",
       "'poutcome'    STRING  required           'poutcome'\n",
       "'y'           STRING  required                  'y'"
      ]
     },
     "metadata": {},
     "output_type": "display_data"
    },
    {
     "data": {
      "text/html": [
       "<div>\n",
       "<style scoped>\n",
       "    .dataframe tbody tr th:only-of-type {\n",
       "        vertical-align: middle;\n",
       "    }\n",
       "\n",
       "    .dataframe tbody tr th {\n",
       "        vertical-align: top;\n",
       "    }\n",
       "\n",
       "    .dataframe thead th {\n",
       "        text-align: right;\n",
       "    }\n",
       "</style>\n",
       "<table border=\"1\" class=\"dataframe\">\n",
       "  <thead>\n",
       "    <tr style=\"text-align: right;\">\n",
       "      <th></th>\n",
       "      <th>Values</th>\n",
       "    </tr>\n",
       "    <tr>\n",
       "      <th>Domain</th>\n",
       "      <th></th>\n",
       "    </tr>\n",
       "  </thead>\n",
       "  <tbody>\n",
       "    <tr>\n",
       "      <th>'job'</th>\n",
       "      <td>'admin.', 'blue-collar', 'entrepreneur', 'housemaid', 'management', 'retired', 'self-employed', 'services', 'student', 'technician', 'unemployed', 'unknown'</td>\n",
       "    </tr>\n",
       "    <tr>\n",
       "      <th>'marital'</th>\n",
       "      <td>'divorced', 'married', 'single'</td>\n",
       "    </tr>\n",
       "    <tr>\n",
       "      <th>'education'</th>\n",
       "      <td>'primary', 'secondary', 'tertiary', 'unknown'</td>\n",
       "    </tr>\n",
       "    <tr>\n",
       "      <th>'default'</th>\n",
       "      <td>'no', 'yes'</td>\n",
       "    </tr>\n",
       "    <tr>\n",
       "      <th>'housing'</th>\n",
       "      <td>'no', 'yes'</td>\n",
       "    </tr>\n",
       "    <tr>\n",
       "      <th>'loan'</th>\n",
       "      <td>'no', 'yes'</td>\n",
       "    </tr>\n",
       "    <tr>\n",
       "      <th>'contact'</th>\n",
       "      <td>'cellular', 'telephone', 'unknown'</td>\n",
       "    </tr>\n",
       "    <tr>\n",
       "      <th>'month'</th>\n",
       "      <td>'apr', 'aug', 'dec', 'feb', 'jan', 'jul', 'jun', 'mar', 'may', 'nov', 'oct'</td>\n",
       "    </tr>\n",
       "    <tr>\n",
       "      <th>'poutcome'</th>\n",
       "      <td>'failure', 'other', 'success', 'unknown'</td>\n",
       "    </tr>\n",
       "    <tr>\n",
       "      <th>'y'</th>\n",
       "      <td>'no', 'yes'</td>\n",
       "    </tr>\n",
       "  </tbody>\n",
       "</table>\n",
       "</div>"
      ],
      "text/plain": [
       "                                                                                                                                                                   Values\n",
       "Domain                                                                                                                                                                   \n",
       "'job'        'admin.', 'blue-collar', 'entrepreneur', 'housemaid', 'management', 'retired', 'self-employed', 'services', 'student', 'technician', 'unemployed', 'unknown'\n",
       "'marital'                                                                                                                                 'divorced', 'married', 'single'\n",
       "'education'                                                                                                                 'primary', 'secondary', 'tertiary', 'unknown'\n",
       "'default'                                                                                                                                                     'no', 'yes'\n",
       "'housing'                                                                                                                                                     'no', 'yes'\n",
       "'loan'                                                                                                                                                        'no', 'yes'\n",
       "'contact'                                                                                                                              'cellular', 'telephone', 'unknown'\n",
       "'month'                                                                                       'apr', 'aug', 'dec', 'feb', 'jan', 'jul', 'jun', 'mar', 'may', 'nov', 'oct'\n",
       "'poutcome'                                                                                                                       'failure', 'other', 'success', 'unknown'\n",
       "'y'                                                                                                                                                           'no', 'yes'"
      ]
     },
     "metadata": {},
     "output_type": "display_data"
    }
   ],
   "source": [
    "### START CODE HERE\n",
    "# Infer the data schema by using the training statistics that you generated\n",
    "schema = tfdv.infer_schema(train_stats)\n",
    "\n",
    "# Display the data schema\n",
    "tfdv.display_schema(schema)\n",
    "### END CODE HERE"
   ]
  },
  {
   "cell_type": "code",
   "execution_count": 8,
   "metadata": {
    "id": "-qEOcwbXRuxv",
    "tags": [
     "graded"
    ]
   },
   "outputs": [
    {
     "name": "stdout",
     "output_type": "stream",
     "text": [
      "Number of features in schema: 17\n"
     ]
    }
   ],
   "source": [
    "# TEST CODE\n",
    "\n",
    "# Check number of features\n",
    "print(f\"Number of features in schema: {len(schema.feature)}\")"
   ]
  },
  {
   "attachments": {},
   "cell_type": "markdown",
   "metadata": {
    "id": "SHgTvESLRuxw"
   },
   "source": [
    "**Expected Output:**\n",
    "\n",
    "```\n",
    "Number of features in schema: 17\n",
    "```"
   ]
  },
  {
   "attachments": {},
   "cell_type": "markdown",
   "metadata": {
    "id": "tS3AgTkjRuxw"
   },
   "source": [
    "**Be sure to check the information displayed before moving forward.**"
   ]
  },
  {
   "attachments": {},
   "cell_type": "markdown",
   "metadata": {
    "id": "ZVa3EXE8WEDE"
   },
   "source": [
    "<a name='5'></a>\n",
    "## 5 - Calculate, Visualize and Fix Evaluation Anomalies\n"
   ]
  },
  {
   "attachments": {},
   "cell_type": "markdown",
   "metadata": {
    "id": "_PG0tVZDaDTF"
   },
   "source": [
    "It is important that the schema of the evaluation data is consistent with the training data since the data that your model is going to receive should be consistent to the one you used to train it with.\n",
    "\n",
    "Moreover, it is also important that the **features of the evaluation data belong roughly to the same range as the training data**. This ensures that the model will be evaluated on a similar loss surface covered during training."
   ]
  },
  {
   "attachments": {},
   "cell_type": "markdown",
   "metadata": {
    "id": "jWZFJjSsRuxw"
   },
   "source": [
    "<a name='ex-4'></a>\n",
    "### Exercise 4: Compare Training and Evaluation Statistics\n",
    "\n",
    "Now you are going to generate the evaluation statistics and compare it with training statistics. You can use the [`tfdv.generate_statistics_from_dataframe()`](https://www.tensorflow.org/tfx/data_validation/api_docs/python/tfdv/generate_statistics_from_dataframe) function for this. But this time, you'll need to pass the **evaluation data**. For the `stats_options` parameter, the list you used before works here too.\n",
    "\n",
    "Remember that to visualize the evaluation statistics you can use [`tfdv.visualize_statistics()`](https://www.tensorflow.org/tfx/data_validation/api_docs/python/tfdv/visualize_statistics). \n",
    "\n",
    "However, it is impractical to visualize both statistics separately and do your comparison from there. Fortunately, TFDV has got this covered. You can use the `visualize_statistics` function and pass additional parameters to overlay the statistics from both datasets (referenced as left-hand side and right-hand side statistics). Let's see what these parameters are:\n",
    "\n",
    "- `lhs_statistics`: Required parameter. Expects an instance of `DatasetFeatureStatisticsList `.\n",
    "\n",
    "\n",
    "- `rhs_statistics`: Expects an instance of `DatasetFeatureStatisticsList ` to compare with `lhs_statistics`.\n",
    "\n",
    "\n",
    "- `lhs_name`: Name of the `lhs_statistics` dataset.\n",
    "\n",
    "\n",
    "- `rhs_name`: Name of the `rhs_statistics` dataset.\n",
    "\n",
    "For this case, remember to define the `lhs_statistics` protocol with the `eval_stats`, and the optional `rhs_statistics` protocol with the `train_stats`.\n",
    "\n",
    "Additionally, check the function for the protocol name declaration, and define the lhs and rhs names as `'EVAL_DATASET'` and `'TRAIN_DATASET'` respectively."
   ]
  },
  {
   "cell_type": "code",
   "execution_count": 9,
   "metadata": {
    "graded": true,
    "id": "j_P0RLYlV6XG",
    "name": "eval_stats_visualize_statistics",
    "tags": [
     "graded"
    ]
   },
   "outputs": [
    {
     "data": {
      "text/html": [
       "<iframe id='facets-iframe' width=\"100%\" height=\"500px\"></iframe>\n",
       "        <script>\n",
       "        facets_iframe = document.getElementById('facets-iframe');\n",
       "        facets_html = '<script src=\"https://cdnjs.cloudflare.com/ajax/libs/webcomponentsjs/1.3.3/webcomponents-lite.js\"><\\/script><link rel=\"import\" href=\"https://raw.githubusercontent.com/PAIR-code/facets/master/facets-dist/facets-jupyter.html\"><facets-overview proto-input=\"CpdaCgxFVkFMX0RBVEFTRVQQ/TQavAcasgcKtgII/TQYASABLQAAgD8ypAIaGwkAAAAAAADwPxEAAAAAAADwPyHNzMzMzDCFQBobCQAAAAAAAPA/EQAAAAAAAPA/Ic3MzMzMMIVAGhsJAAAAAAAA8D8RAAAAAAAA8D8hzczMzMwwhUAaGwkAAAAAAADwPxEAAAAAAADwPyHNzMzMzDCFQBobCQAAAAAAAPA/EQAAAAAAAPA/Ic3MzMzMMIVAGhsJAAAAAAAA8D8RAAAAAAAA8D8hzczMzMwwhUAaGwkAAAAAAADwPxEAAAAAAADwPyHNzMzMzDCFQBobCQAAAAAAAPA/EQAAAAAAAPA/Ic3MzMzMMIVAGhsJAAAAAAAA8D8RAAAAAAAA8D8hzczMzMwwhUAaGwkAAAAAAADwPxEAAAAAAADwPyHNzMzMzDCFQCABQP00EQoCEh89cUNAGdLuA4Fz0SJAKQAAAAAAADNAMQAAAAAAgEJAOQAAAAAAwFdAQqICGhsJAAAAAAAAM0ARmpmZmZmZOkAhl5mZmZmRdUAaGwmamZmZmZk6QBGamZmZmRlBQCHp2xSjhmahQBobCZqZmZmZGUFAEWZmZmZm5kRAIe/rRvf8u55AGhsJZmZmZmbmREARMzMzMzOzSEAheaDTBjo5k0AaGwkzMzMzM7NIQBEAAAAAAIBMQCGqqqqqqjKHQBobCQAAAAAAgExAEWZmZmZmJlBAITQzMzMzc2hAGhsJZmZmZmYmUEARzMzMzMwMUkAh/v//////RUAaGwnMzMzMzAxSQBEzMzMzM/NTQCEIAAAAAAA3QBobCTMzMzMz81NAEZmZmZmZ2VVAIed6FK5H4QpAGhsJmZmZmZnZVUARAAAAAADAV0AhWrgehetRCEBCpAIaGwkAAAAAAAAzQBEAAAAAAAA9QCEAAAAAAMiLQBobCQAAAAAAAD1AEQAAAAAAAD9AIQAAAAAAkIJAGhsJAAAAAAAAP0ARAAAAAACAQEAhAAAAAADghkAaGwkAAAAAAIBAQBEAAAAAAIBBQCEAAAAAAKCGQBobCQAAAAAAgEFAEQAAAAAAgEJAIQAAAAAAIIRAGhsJAAAAAACAQkARAAAAAACAQ0AhAAAAAABYgEAaGwkAAAAAAIBDQBEAAAAAAIBFQCEAAAAAAMiJQBobCQAAAAAAgEVAEQAAAAAAgEdAIQAAAAAA8IJAGhsJAAAAAACAR0ARAAAAAACASkAhAAAAAABohEAaGwkAAAAAAIBKQBEAAAAAAMBXQCEAAAAAAHiCQCABQgUKA2FnZRqPBxACIoMHCrYCCP00GAEgAS0AAIA/MqQCGhsJAAAAAAAA8D8RAAAAAAAA8D8hzczMzMwwhUAaGwkAAAAAAADwPxEAAAAAAADwPyHNzMzMzDCFQBobCQAAAAAAAPA/EQAAAAAAAPA/Ic3MzMzMMIVAGhsJAAAAAAAA8D8RAAAAAAAA8D8hzczMzMwwhUAaGwkAAAAAAADwPxEAAAAAAADwPyHNzMzMzDCFQBobCQAAAAAAAPA/EQAAAAAAAPA/Ic3MzMzMMIVAGhsJAAAAAAAA8D8RAAAAAAAA8D8hzczMzMwwhUAaGwkAAAAAAADwPxEAAAAAAADwPyHNzMzMzDCFQBobCQAAAAAAAPA/EQAAAAAAAPA/Ic3MzMzMMIVAGhsJAAAAAAAA8D8RAAAAAAAA8D8hzczMzMwwhUAgAUD9NBAMGhYSC2JsdWUtY29sbGFyGQAAAAAATKBAGhUSCm1hbmFnZW1lbnQZAAAAAAD4kUAaFRIKdGVjaG5pY2lhbhkAAAAAAGiMQBoREgZhZG1pbi4ZAAAAAACwi0AaExIIc2VydmljZXMZAAAAAACoiEAaFxIMZW50cmVwcmVuZXVyGQAAAAAAQGlAGhgSDXNlbGYtZW1wbG95ZWQZAAAAAAAAaUAaEhIHcmV0aXJlZBkAAAAAAIBlQBoSEgdzdHVkZW50GQAAAAAAAGRAGhUSCnVuZW1wbG95ZWQZAAAAAADAXkAaFBIJaG91c2VtYWlkGQAAAAAAAFhAGhISB3Vua25vd24ZAAAAAAAAIEAle5IYQSq2AgoWIgtibHVlLWNvbGxhcikAAAAAAEygQAoZCAEQASIKbWFuYWdlbWVudCkAAAAAAPiRQAoZCAIQAiIKdGVjaG5pY2lhbikAAAAAAGiMQAoVCAMQAyIGYWRtaW4uKQAAAAAAsItAChcIBBAEIghzZXJ2aWNlcykAAAAAAKiIQAobCAUQBSIMZW50cmVwcmVuZXVyKQAAAAAAQGlAChwIBhAGIg1zZWxmLWVtcGxveWVkKQAAAAAAAGlAChYIBxAHIgdyZXRpcmVkKQAAAAAAgGVAChYICBAIIgdzdHVkZW50KQAAAAAAAGRAChkICRAJIgp1bmVtcGxveWVkKQAAAAAAwF5AChgIChAKIglob3VzZW1haWQpAAAAAAAAWEAKFggLEAsiB3Vua25vd24pAAAAAAAAIEBCBQoDam9iGv4DEAIi7gMKtgII/TQYASABLQAAgD8ypAIaGwkAAAAAAADwPxEAAAAAAADwPyHNzMzMzDCFQBobCQAAAAAAAPA/EQAAAAAAAPA/Ic3MzMzMMIVAGhsJAAAAAAAA8D8RAAAAAAAA8D8hzczMzMwwhUAaGwkAAAAAAADwPxEAAAAAAADwPyHNzMzMzDCFQBobCQAAAAAAAPA/EQAAAAAAAPA/Ic3MzMzMMIVAGhsJAAAAAAAA8D8RAAAAAAAA8D8hzczMzMwwhUAaGwkAAAAAAADwPxEAAAAAAADwPyHNzMzMzDCFQBobCQAAAAAAAPA/EQAAAAAAAPA/Ic3MzMzMMIVAGhsJAAAAAAAA8D8RAAAAAAAA8D8hzczMzMwwhUAaGwkAAAAAAADwPxEAAAAAAADwPyHNzMzMzDCFQCABQP00EAQaEhIHbWFycmllZBkAAAAAAHSuQBoREgZzaW5nbGUZAAAAAAB4oEAaExIIZGl2b3JjZWQZAAAAAAAoiEAaEhIHd2lkb3dlZBkAAAAAAAAAQCU2s9lAKlwKEiIHbWFycmllZCkAAAAAAHSuQAoVCAEQASIGc2luZ2xlKQAAAAAAeKBAChcIAhACIghkaXZvcmNlZCkAAAAAACiIQAoWCAMQAyIHd2lkb3dlZCkAAAAAAAAAQEIJCgdtYXJpdGFsGoYEEAIi9AMKtgII/TQYASABLQAAgD8ypAIaGwkAAAAAAADwPxEAAAAAAADwPyHNzMzMzDCFQBobCQAAAAAAAPA/EQAAAAAAAPA/Ic3MzMzMMIVAGhsJAAAAAAAA8D8RAAAAAAAA8D8hzczMzMwwhUAaGwkAAAAAAADwPxEAAAAAAADwPyHNzMzMzDCFQBobCQAAAAAAAPA/EQAAAAAAAPA/Ic3MzMzMMIVAGhsJAAAAAAAA8D8RAAAAAAAA8D8hzczMzMwwhUAaGwkAAAAAAADwPxEAAAAAAADwPyHNzMzMzDCFQBobCQAAAAAAAPA/EQAAAAAAAPA/Ic3MzMzMMIVAGhsJAAAAAAAA8D8RAAAAAAAA8D8hzczMzMwwhUAaGwkAAAAAAADwPxEAAAAAAADwPyHNzMzMzDCFQCABQP00EAQaFBIJc2Vjb25kYXJ5GQAAAAAABK5AGhMSCHRlcnRpYXJ5GQAAAAAAWJlAGhISB3ByaW1hcnkZAAAAAABskUAaEhIHdW5rbm93bhkAAAAAAEBpQCU09QVBKl8KFCIJc2Vjb25kYXJ5KQAAAAAABK5AChcIARABIgh0ZXJ0aWFyeSkAAAAAAFiZQAoWCAIQAiIHcHJpbWFyeSkAAAAAAGyRQAoWCAMQAyIHdW5rbm93bikAAAAAAEBpQEILCgllZHVjYXRpb24alAMQAiKEAwq2Agj9NBgBIAEtAACAPzKkAhobCQAAAAAAAPA/EQAAAAAAAPA/Ic3MzMzMMIVAGhsJAAAAAAAA8D8RAAAAAAAA8D8hzczMzMwwhUAaGwkAAAAAAADwPxEAAAAAAADwPyHNzMzMzDCFQBobCQAAAAAAAPA/EQAAAAAAAPA/Ic3MzMzMMIVAGhsJAAAAAAAA8D8RAAAAAAAA8D8hzczMzMwwhUAaGwkAAAAAAADwPxEAAAAAAADwPyHNzMzMzDCFQBobCQAAAAAAAPA/EQAAAAAAAPA/Ic3MzMzMMIVAGhsJAAAAAAAA8D8RAAAAAAAA8D8hzczMzMwwhUAaGwkAAAAAAADwPxEAAAAAAADwPyHNzMzMzDCFQBobCQAAAAAAAPA/EQAAAAAAAPA/Ic3MzMzMMIVAIAFA/TQQAhoNEgJubxkAAAAAADW6QBoOEgN5ZXMZAAAAAAAAUkAl960AQCojCg0iAm5vKQAAAAAANbpAChIIARABIgN5ZXMpAAAAAAAAUkBCCQoHZGVmYXVsdBqxBxqjBwq2Agj9NBgBIAEtAACAPzKkAhobCQAAAAAAAPA/EQAAAAAAAPA/Ic3MzMzMMIVAGhsJAAAAAAAA8D8RAAAAAAAA8D8hzczMzMwwhUAaGwkAAAAAAADwPxEAAAAAAADwPyHNzMzMzDCFQBobCQAAAAAAAPA/EQAAAAAAAPA/Ic3MzMzMMIVAGhsJAAAAAAAA8D8RAAAAAAAA8D8hzczMzMwwhUAaGwkAAAAAAADwPxEAAAAAAADwPyHNzMzMzDCFQBobCQAAAAAAAPA/EQAAAAAAAPA/Ic3MzMzMMIVAGhsJAAAAAAAA8D8RAAAAAAAA8D8hzczMzMwwhUAaGwkAAAAAAADwPxEAAAAAAADwPyHNzMzMzDCFQBobCQAAAAAAAPA/EQAAAAAAAPA/Ic3MzMzMMIVAIAFA/TQRMFZ52gnvkUAZtXnQ07hlokAgsQMpAAAAAADkp8AxAAAAAAAAe0A5AAAAAMDp4UBCogIaGwkAAAAAAOSnwBE0MzMzM6OMQCGamZmZmUSyQBobCTQzMzMzo4xAEc3MzMzMGrNAIXMJZA2jXZtAGhsJzczMzMwas0ARmpmZmZlQwUAh9DKgeVN8bkAaGwmamZmZmVDBQBHNzMzMzBPJQCH0NZAfnBJQQBobCc3MzMzME8lAEQAAAACAa9BAIfsElcmddjRAGhsJAAAAAIBr0EARmpmZmRlN1EAhOg6VPZ2hJUAaGwmamZmZGU3UQBEzMzMzsy7YQCH5x5zmkQAVQBobCTMzMzOzLthAEc3MzMxMENxAIRZO1lDtiwxAGhsJzczMzEwQ3EARZmZmZubx30AhlkgA2CDeAkAaGwlmZmZm5vHfQBEAAAAAwOnhQCGaSADYIN4CQEKSAhoSCQAAAAAA5KfAIQAAAAAALJBAGhIRAAAAAAAAPkAhAAAAAAAwdEAaGwkAAAAAAAA+QBEAAAAAAEBiQCEAAAAAAFCFQBobCQAAAAAAQGJAEQAAAAAA8HBAIQAAAAAAOIVAGhsJAAAAAADwcEARAAAAAAAAe0AhAAAAAAAYhUAaGwkAAAAAAAB7QBEAAAAAAPCDQCEAAAAAACiFQBobCQAAAAAA8INAEQAAAAAA4I1AIQAAAAAAMIVAGhsJAAAAAADgjUARAAAAAAAcmEAhAAAAAAAghUAaGwkAAAAAAByYQBEAAAAAAFynQCEAAAAAADiFQBobCQAAAAAAXKdAEQAAAADA6eFAIQAAAAAAKIVAIAFCCQoHYmFsYW5jZRqUAxACIoQDCrYCCP00GAEgAS0AAIA/MqQCGhsJAAAAAAAA8D8RAAAAAAAA8D8hzczMzMwwhUAaGwkAAAAAAADwPxEAAAAAAADwPyHNzMzMzDCFQBobCQAAAAAAAPA/EQAAAAAAAPA/Ic3MzMzMMIVAGhsJAAAAAAAA8D8RAAAAAAAA8D8hzczMzMwwhUAaGwkAAAAAAADwPxEAAAAAAADwPyHNzMzMzDCFQBobCQAAAAAAAPA/EQAAAAAAAPA/Ic3MzMzMMIVAGhsJAAAAAAAA8D8RAAAAAAAA8D8hzczMzMwwhUAaGwkAAAAAAADwPxEAAAAAAADwPyHNzMzMzDCFQBobCQAAAAAAAPA/EQAAAAAAAPA/Ic3MzMzMMIVAGhsJAAAAAAAA8D8RAAAAAAAA8D8hzczMzMwwhUAgAUD9NBACGg4SA3llcxkAAAAAAF+2QBoNEgJubxkAAAAAAHiQQCVdDTZAKiMKDiIDeWVzKQAAAAAAX7ZAChEIARABIgJubykAAAAAAHiQQEIJCgdob3VzaW5nGpEDEAIihAMKtgII/TQYASABLQAAgD8ypAIaGwkAAAAAAADwPxEAAAAAAADwPyHNzMzMzDCFQBobCQAAAAAAAPA/EQAAAAAAAPA/Ic3MzMzMMIVAGhsJAAAAAAAA8D8RAAAAAAAA8D8hzczMzMwwhUAaGwkAAAAAAADwPxEAAAAAAADwPyHNzMzMzDCFQBobCQAAAAAAAPA/EQAAAAAAAPA/Ic3MzMzMMIVAGhsJAAAAAAAA8D8RAAAAAAAA8D8hzczMzMwwhUAaGwkAAAAAAADwPxEAAAAAAADwPyHNzMzMzDCFQBobCQAAAAAAAPA/EQAAAAAAAPA/Ic3MzMzMMIVAGhsJAAAAAAAA8D8RAAAAAAAA8D8hzczMzMwwhUAaGwkAAAAAAADwPxEAAAAAAADwPyHNzMzMzDCFQCABQP00EAIaDRICbm8ZAAAAAADDtkAaDhIDeWVzGQAAAAAA0I1AJQUBCUAqIwoNIgJubykAAAAAAMO2QAoSCAEQASIDeWVzKQAAAAAA0I1AQgYKBGxvYW4a1AMQAiLEAwq2Agj9NBgBIAEtAACAPzKkAhobCQAAAAAAAPA/EQAAAAAAAPA/Ic3MzMzMMIVAGhsJAAAAAAAA8D8RAAAAAAAA8D8hzczMzMwwhUAaGwkAAAAAAADwPxEAAAAAAADwPyHNzMzMzDCFQBobCQAAAAAAAPA/EQAAAAAAAPA/Ic3MzMzMMIVAGhsJAAAAAAAA8D8RAAAAAAAA8D8hzczMzMwwhUAaGwkAAAAAAADwPxEAAAAAAADwPyHNzMzMzDCFQBobCQAAAAAAAPA/EQAAAAAAAPA/Ic3MzMzMMIVAGhsJAAAAAAAA8D8RAAAAAAAA8D8hzczMzMwwhUAaGwkAAAAAAADwPxEAAAAAAADwPyHNzMzMzDCFQBobCQAAAAAAAPA/EQAAAAAAAPA/Ic3MzMzMMIVAIAFA/TQQAxoTEghjZWxsdWxhchkAAAAAAHS4QBoUEgl0ZWxlcGhvbmUZAAAAAAA4gEAaEBIFZW1haWwZAAAAAAAAAEAl3zUBQSpFChMiCGNlbGx1bGFyKQAAAAAAdLhAChgIARABIgl0ZWxlcGhvbmUpAAAAAAA4gEAKFAgCEAIiBWVtYWlsKQAAAAAAAABAQgkKB2NvbnRhY3QavAcasgcKtgII/TQYASABLQAAgD8ypAIaGwkAAAAAAADwPxEAAAAAAADwPyHNzMzMzDCFQBobCQAAAAAAAPA/EQAAAAAAAPA/Ic3MzMzMMIVAGhsJAAAAAAAA8D8RAAAAAAAA8D8hzczMzMwwhUAaGwkAAAAAAADwPxEAAAAAAADwPyHNzMzMzDCFQBobCQAAAAAAAPA/EQAAAAAAAPA/Ic3MzMzMMIVAGhsJAAAAAAAA8D8RAAAAAAAA8D8hzczMzMwwhUAaGwkAAAAAAADwPxEAAAAAAADwPyHNzMzMzDCFQBobCQAAAAAAAPA/EQAAAAAAAPA/Ic3MzMzMMIVAGhsJAAAAAAAA8D8RAAAAAAAA8D8hzczMzMwwhUAaGwkAAAAAAADwPxEAAAAAAADwPyHNzMzMzDCFQCABQP00EQqyJEQvTCpAGe7cnDBodxhAKQAAAAAAABBAMQAAAAAAACpAOQAAAAAAAD5AQqICGhsJAAAAAAAAEEARZmZmZmZmGkAhPrpT7YaojkAaGwlmZmZmZmYaQBFmZmZmZmYiQCGu4BNHevqRQBobCWZmZmZmZiJAEZqZmZmZmSdAIXaeAMVNa31AGhsJmpmZmZmZJ0ARzczMzMzMLEAhRLSbakiNm0AaGwnNzMzMzMwsQBEAAAAAAAAxQCFzZmZmJl2UQBobCQAAAAAAADFAEZqZmZmZmTNAIS3xM0r8jBdAGhsJmpmZmZmZM0ARMzMzMzMzNkAhvjEFoX/ShUAaGwkzMzMzMzM2QBHNzMzMzMw4QCFFRERERMRGQBobCc3MzMzMzDhAEWdmZmZmZjtAIRgRERERET1AGhsJZ2ZmZmZmO0ARAAAAAAAAPkAhMDMzMzPTdEBCpAIaGwkAAAAAAAAQQBEAAAAAAAAYQCEAAAAAAIiOQBobCQAAAAAAABhAEQAAAAAAABxAIQAAAAAAAIJAGhsJAAAAAAAAHEARAAAAAAAAIEAhAAAAAADAfkAaGwkAAAAAAAAgQBEAAAAAAAAoQCEAAAAAAFCQQBobCQAAAAAAAChAEQAAAAAAACpAIQAAAAAAsINAGhsJAAAAAAAAKkARAAAAAAAALEAhAAAAAAAghEAaGwkAAAAAAAAsQBEAAAAAAAAuQCEAAAAAACB7QBobCQAAAAAAAC5AEQAAAAAAADFAIQAAAAAAQItAGhsJAAAAAAAAMUARAAAAAAAANEAhAAAAAACIg0AaGwkAAAAAAAA0QBEAAAAAAAA+QCEAAAAAAHB+QCABQgUKA2RheRqUAxACIoYDCrYCCP00GAEgAS0AAIA/MqQCGhsJAAAAAAAA8D8RAAAAAAAA8D8hzczMzMwwhUAaGwkAAAAAAADwPxEAAAAAAADwPyHNzMzMzDCFQBobCQAAAAAAAPA/EQAAAAAAAPA/Ic3MzMzMMIVAGhsJAAAAAAAA8D8RAAAAAAAA8D8hzczMzMwwhUAaGwkAAAAAAADwPxEAAAAAAADwPyHNzMzMzDCFQBobCQAAAAAAAPA/EQAAAAAAAPA/Ic3MzMzMMIVAGhsJAAAAAAAA8D8RAAAAAAAA8D8hzczMzMwwhUAaGwkAAAAAAADwPxEAAAAAAADwPyHNzMzMzDCFQBobCQAAAAAAAPA/EQAAAAAAAPA/Ic3MzMzMMIVAGhsJAAAAAAAA8D8RAAAAAAAA8D8hzczMzMwwhUAgAUD9NBACGg4SA21heRkAAAAAAJuwQBoOEgNhcHIZAAAAAADEo0AlAABAQCokCg4iA21heSkAAAAAAJuwQAoSCAEQASIDYXByKQAAAAAAxKNAQgcKBW1vbnRoGqgHGpkHCrYCCP00GAEgAS0AAIA/MqQCGhsJAAAAAAAA8D8RAAAAAAAA8D8hzczMzMwwhUAaGwkAAAAAAADwPxEAAAAAAADwPyHNzMzMzDCFQBobCQAAAAAAAPA/EQAAAAAAAPA/Ic3MzMzMMIVAGhsJAAAAAAAA8D8RAAAAAAAA8D8hzczMzMwwhUAaGwkAAAAAAADwPxEAAAAAAADwPyHNzMzMzDCFQBobCQAAAAAAAPA/EQAAAAAAAPA/Ic3MzMzMMIVAGhsJAAAAAAAA8D8RAAAAAAAA8D8hzczMzMwwhUAaGwkAAAAAAADwPxEAAAAAAADwPyHNzMzMzDCFQBobCQAAAAAAAPA/EQAAAAAAAPA/Ic3MzMzMMIVAGhsJAAAAAAAA8D8RAAAAAAAA8D8hzczMzMwwhUAgAUD9NBE10kBnZepwQBl09+4UMtxuQCABMQAAAAAAAGlAOQAAAAAAoqBAQpkCGhIRzczMzMycakAhZWZmZuYZrEAaGwnNzMzMzJxqQBHNzMzMzJx6QCGdmZmZmQKfQBobCc3MzMzMnHpAEZqZmZmZ9YNAIQAAAAAAo4RAGhsJmpmZmZn1g0ARzczMzMycikAhrUfhehSocUAaGwnNzMzMzJyKQBEAAAAAAKKQQCETyTiRjANhQBobCQAAAAAAopBAEZqZmZmZ9ZNAIUDU9ENNX1FAGhsJmpmZmZn1k0ARMzMzMzNJl0Ah0m2O3eYIPUAaGwkzMzMzM0mXQBHNzMzMzJyaQCHejRUFz9MjQBobCc3MzMzMnJpAEWdmZmZm8J1AIQ5KOj597RZAGhsJZ2ZmZmbwnUARAAAAAACioEAhhSpCvF31GEBCmwIaEhEAAAAAAIBLQCEAAAAAAJiFQBobCQAAAAAAgEtAEQAAAAAAwFZAIQAAAAAA6IRAGhsJAAAAAADAVkARAAAAAADAX0AhAAAAAADAhUAaGwkAAAAAAMBfQBEAAAAAACBkQCEAAAAAAKCEQBobCQAAAAAAIGRAEQAAAAAAAGlAIQAAAAAAYIVAGhsJAAAAAAAAaUARAAAAAADAbkAhAAAAAAAwhUAaGwkAAAAAAMBuQBEAAAAAADBzQCEAAAAAACCFQBobCQAAAAAAMHNAEQAAAAAA4HhAIQAAAAAAAIVAGhsJAAAAAADgeEARAAAAAAAAgkAhAAAAAAA4hUAaGwkAAAAAAACCQBEAAAAAAKKgQCEAAAAAACCFQCABQgoKCGR1cmF0aW9uGsEHGrIHCrYCCP00GAEgAS0AAIA/MqQCGhsJAAAAAAAA8D8RAAAAAAAA8D8hzczMzMwwhUAaGwkAAAAAAADwPxEAAAAAAADwPyHNzMzMzDCFQBobCQAAAAAAAPA/EQAAAAAAAPA/Ic3MzMzMMIVAGhsJAAAAAAAA8D8RAAAAAAAA8D8hzczMzMwwhUAaGwkAAAAAAADwPxEAAAAAAADwPyHNzMzMzDCFQBobCQAAAAAAAPA/EQAAAAAAAPA/Ic3MzMzMMIVAGhsJAAAAAAAA8D8RAAAAAAAA8D8hzczMzMwwhUAaGwkAAAAAAADwPxEAAAAAAADwPyHNzMzMzDCFQBobCQAAAAAAAPA/EQAAAAAAAPA/Ic3MzMzMMIVAGhsJAAAAAAAA8D8RAAAAAAAA8D8hzczMzMwwhUAgAUD9NBGN4BTjVSEBQBksy/iNqXn6PykAAAAAAADwPzEAAAAAAAAAQDkAAAAAAAA3QEKiAhobCQAAAAAAAPA/EZqZmZmZmQlAId6mDXRal7ZAGhsJmpmZmZmZCUARmpmZmZmZFUAhXZA4vPYahUAaGwmamZmZmZkVQBFnZmZmZmYeQCGP1miN1uBrQBobCWdmZmZmZh5AEZqZmZmZmSNAIc3MzMzMHFFAGhsJmpmZmZmZI0ARAAAAAAAAKEAhzMzMzMzMOEAaGwkAAAAAAAAoQBFnZmZmZmYsQCE2MzMzMzPzPxobCWdmZmZmZixAEWdmZmZmZjBAITYzMzMzM/M/GhsJZ2ZmZmZmMEARmpmZmZmZMkAhMTMzMzMz8z8aGwmamZmZmZkyQBHNzMzMzMw0QCExMzMzMzPzPxobCc3MzMzMzDRAEQAAAAAAADdAITEzMzMzM/M/QqQCGhsJAAAAAAAA8D8RAAAAAAAA8D8hAAAAAAAGiUAaGwkAAAAAAADwPxEAAAAAAADwPyEAAAAAAAaJQBobCQAAAAAAAPA/EQAAAAAAAPA/IQAAAAAABolAGhsJAAAAAAAA8D8RAAAAAAAA8D8hAAAAAAAGiUAaGwkAAAAAAADwPxEAAAAAAAAAQCEAAAAAAICCQBobCQAAAAAAAABAEQAAAAAAAABAIQAAAAAAgIJAGhsJAAAAAAAAAEARAAAAAAAAAEAhAAAAAACAgkAaGwkAAAAAAAAAQBEAAAAAAAAIQCEAAAAAABiJQBobCQAAAAAAAAhAEQAAAAAAABBAIQAAAAAAYHlAGhsJAAAAAAAAEEARAAAAAAAAN0AhAAAAAACIgkAgAUIKCghjYW1wYWlnbhq+BxqyBwq2Agj9NBgBIAEtAACAPzKkAhobCQAAAAAAAPA/EQAAAAAAAPA/Ic3MzMzMMIVAGhsJAAAAAAAA8D8RAAAAAAAA8D8hzczMzMwwhUAaGwkAAAAAAADwPxEAAAAAAADwPyHNzMzMzDCFQBobCQAAAAAAAPA/EQAAAAAAAPA/Ic3MzMzMMIVAGhsJAAAAAAAA8D8RAAAAAAAA8D8hzczMzMwwhUAaGwkAAAAAAADwPxEAAAAAAADwPyHNzMzMzDCFQBobCQAAAAAAAPA/EQAAAAAAAPA/Ic3MzMzMMIVAGhsJAAAAAAAA8D8RAAAAAAAA8D8hzczMzMwwhUAaGwkAAAAAAADwPxEAAAAAAADwPyHNzMzMzDCFQBobCQAAAAAAAPA/EQAAAAAAAPA/Ic3MzMzMMIVAIAFA/TQRtLdW00oqXUAZUnSEZPoWY0ApAAAAAAAA8L8xAAAAAAAA8L85AAAAAABgd0BCogIaGwkAAAAAAADwvxEAAAAAAEBCQCF0d3d3d7GvQBobCQAAAAAAQEJAEQAAAAAAgFJAIXd3d3d3dzBAGhsJAAAAAACAUkARAAAAAADgW0AhAidwAicwW0AaGwkAAAAAAOBbQBEAAAAAAKBiQCEyDMMwDANZQBobCQAAAAAAoGJAEQAAAAAAUGdAIUFMriAm93VAGhsJAAAAAABQZ0ARAAAAAAAAbEAhXEFMriAmE0AaGwkAAAAAAABsQBEAAAAAAFhwQCHlCmJyBQFVQBobCQAAAAAAWHBAEQAAAAAAsHJAIQAAAAAAXHRAGhsJAAAAAACwckARAAAAAAAIdUAhAAAAAAALgUAaGwkAAAAAAAh1QBEAAAAAAGB3QCEBAAAAgI6SQEKkAhobCQAAAAAAAPC/EQAAAAAAAPC/ITMzMzMzI4lAGhsJAAAAAAAA8L8RAAAAAAAA8L8hMzMzMzMjiUAaGwkAAAAAAADwvxEAAAAAAADwvyEzMzMzMyOJQBobCQAAAAAAAPC/EQAAAAAAAPC/ITMzMzMzI4lAGhsJAAAAAAAA8L8RAAAAAAAA8L8hMzMzMzMjiUAaGwkAAAAAAADwvxEAAAAAAMBRQCEAAAAAAIBHQBobCQAAAAAAwFFAEQAAAAAAkHBAIQAAAAAAYIVAGhsJAAAAAACQcEARAAAAAACQdEAhAAAAAABwhUAaGwkAAAAAAJB0QBEAAAAAAPB1QCEAAAAAACiFQBobCQAAAAAA8HVAEQAAAAAAYHdAIQAAAAAAyIRAIAFCBwoFcGRheXMaxgYatwYKtgII/TQYASABLQAAgD8ypAIaGwkAAAAAAADwPxEAAAAAAADwPyHNzMzMzDCFQBobCQAAAAAAAPA/EQAAAAAAAPA/Ic3MzMzMMIVAGhsJAAAAAAAA8D8RAAAAAAAA8D8hzczMzMwwhUAaGwkAAAAAAADwPxEAAAAAAADwPyHNzMzMzDCFQBobCQAAAAAAAPA/EQAAAAAAAPA/Ic3MzMzMMIVAGhsJAAAAAAAA8D8RAAAAAAAA8D8hzczMzMwwhUAaGwkAAAAAAADwPxEAAAAAAADwPyHNzMzMzDCFQBobCQAAAAAAAPA/EQAAAAAAAPA/Ic3MzMzMMIVAGhsJAAAAAAAA8D8RAAAAAAAA8D8hzczMzMwwhUAaGwkAAAAAAADwPxEAAAAAAADwPyHNzMzMzDCFQCABQP00ESgO/eVEi/M/GYsG32TiCQVAILYfOQAAAAAAAE1AQpkCGhIRMzMzMzMzF0AhbOF6FK5EuUAaGwkzMzMzMzMXQBEzMzMzMzMnQCGmcD0K14NuQBobCTMzMzMzMydAEWZmZmZmZjFAIczMzMzMzENAGhsJZmZmZmZmMUARMzMzMzMzN0AhzszMzMzMMkAaGwkzMzMzMzM3QBEAAAAAAAA9QCHAZPlLlr8QQBobCQAAAAAAAD1AEWZmZmZmZkFAIfNxYR8X9vE/GhsJZmZmZmZmQUARzczMzMxMREAh+nFhHxf28T8aGwnNzMzMzExEQBEzMzMzMzNHQCHzcWEfF/bxPxobCTMzMzMzM0dAEZmZmZmZGUpAIfNxYR8X9vE/GhsJmZmZmZkZSkARAAAAAAAATUAh+nFhHxf28T9CwQEaCSEzMzMzMyOJQBoJITMzMzMzI4lAGgkhMzMzMzMjiUAaCSEzMzMzMyOJQBoJITMzMzMzI4lAGhIRAAAAAAAA8D8hAAAAAAAEgEAaGwkAAAAAAADwPxEAAAAAAADwPyEAAAAAAASAQBobCQAAAAAAAPA/EQAAAAAAAABAIQAAAAAA+IVAGhsJAAAAAAAAAEARAAAAAAAACEAhAAAAAAAQdkAaGwkAAAAAAAAIQBEAAAAAAABNQCEAAAAAADCFQCABQgoKCHByZXZpb3VzGvsDEAIi6gMKtgII/TQYASABLQAAgD8ypAIaGwkAAAAAAADwPxEAAAAAAADwPyHNzMzMzDCFQBobCQAAAAAAAPA/EQAAAAAAAPA/Ic3MzMzMMIVAGhsJAAAAAAAA8D8RAAAAAAAA8D8hzczMzMwwhUAaGwkAAAAAAADwPxEAAAAAAADwPyHNzMzMzDCFQBobCQAAAAAAAPA/EQAAAAAAAPA/Ic3MzMzMMIVAGhsJAAAAAAAA8D8RAAAAAAAA8D8hzczMzMwwhUAaGwkAAAAAAADwPxEAAAAAAADwPyHNzMzMzDCFQBobCQAAAAAAAPA/EQAAAAAAAPA/Ic3MzMzMMIVAGhsJAAAAAAAA8D8RAAAAAAAA8D8hzczMzMwwhUAaGwkAAAAAAADwPxEAAAAAAADwPyHNzMzMzDCFQCABQP00EAQaEhIHdW5rbm93bhkAAAAAAGyvQBoSEgdmYWlsdXJlGQAAAAAAfJ5AGhASBW90aGVyGQAAAAAAGIRAGhISB3N1Y2Nlc3MZAAAAAACgZEAlaO7ZQCpaChIiB3Vua25vd24pAAAAAABsr0AKFggBEAEiB2ZhaWx1cmUpAAAAAAB8nkAKFAgCEAIiBW90aGVyKQAAAAAAGIRAChYIAxADIgdzdWNjZXNzKQAAAAAAoGRAQgoKCHBvdXRjb21lGo4DEAIihAMKtgII/TQYASABLQAAgD8ypAIaGwkAAAAAAADwPxEAAAAAAADwPyHNzMzMzDCFQBobCQAAAAAAAPA/EQAAAAAAAPA/Ic3MzMzMMIVAGhsJAAAAAAAA8D8RAAAAAAAA8D8hzczMzMwwhUAaGwkAAAAAAADwPxEAAAAAAADwPyHNzMzMzDCFQBobCQAAAAAAAPA/EQAAAAAAAPA/Ic3MzMzMMIVAGhsJAAAAAAAA8D8RAAAAAAAA8D8hzczMzMwwhUAaGwkAAAAAAADwPxEAAAAAAADwPyHNzMzMzDCFQBobCQAAAAAAAPA/EQAAAAAAAPA/Ic3MzMzMMIVAGhsJAAAAAAAA8D8RAAAAAAAA8D8hzczMzMwwhUAaGwkAAAAAAADwPxEAAAAAAADwPyHNzMzMzDCFQCABQP00EAIaDRICbm8ZAAAAAABxt0AaDhIDeWVzGQAAAAAAYIhAJZtcB0AqIwoNIgJubykAAAAAAHG3QAoSCAEQASIDeWVzKQAAAAAAYIhAQgMKAXkKkFwKDVRSQUlOX0RBVEFTRVQQn/cBGr4HGrQHCrgCCJ/3ARgBIAEtAACAPzKkAhobCQAAAAAAAPA/EQAAAAAAAPA/IWZmZmZmuahAGhsJAAAAAAAA8D8RAAAAAAAA8D8hZmZmZma5qEAaGwkAAAAAAADwPxEAAAAAAADwPyFmZmZmZrmoQBobCQAAAAAAAPA/EQAAAAAAAPA/IWZmZmZmuahAGhsJAAAAAAAA8D8RAAAAAAAA8D8hZmZmZma5qEAaGwkAAAAAAADwPxEAAAAAAADwPyFmZmZmZrmoQBobCQAAAAAAAPA/EQAAAAAAAPA/IWZmZmZmuahAGhsJAAAAAAAA8D8RAAAAAAAA8D8hZmZmZma5qEAaGwkAAAAAAADwPxEAAAAAAADwPyFmZmZmZrmoQBobCQAAAAAAAPA/EQAAAAAAAPA/IWZmZmZmuahAIAFAn/cBEb8A3F0zjkRAGfoptTjvMCNAKQAAAAAAADNAMQAAAAAAAERAOQAAAAAAgFdAQqICGhsJAAAAAAAAM0ARAAAAAACAOkAhOY7jOI7ukEAaGwkAAAAAAIA6QBEAAAAAAABBQCEujuM4rrzAQBobCQAAAAAAAEFAEQAAAAAAwERAIccIyz0Nur5AGhsJAAAAAADAREARAAAAAACASEAhRfc0wvIPu0AaGwkAAAAAAIBIQBEAAAAAAEBMQCF627ZtW8GyQBobCQAAAAAAQExAEQAAAAAAAFBAISNJkiRJMKJAGhsJAAAAAAAAUEARAAAAAADgUUAht23btm2bQkAaGwkAAAAAAOBRQBEAAAAAAMBTQCHeMTWwd0woQBobCQAAAAAAwFNAEQAAAAAAoFVAIaKLLrroIiVAGhsJAAAAAACgVUARAAAAAACAV0AhoosuuugiJUBCpAIaGwkAAAAAAAAzQBEAAAAAAAA+QCEAAAAAADywQBobCQAAAAAAAD5AEQAAAAAAAEBAIQAAAAAAlqZAGhsJAAAAAAAAQEARAAAAAAAAQUAhAAAAAABcpEAaGwkAAAAAAABBQBEAAAAAAIBCQCEAAAAAADKtQBobCQAAAAAAgEJAEQAAAAAAAERAIQAAAAAAYqhAGhsJAAAAAAAAREARAAAAAACARUAhAAAAAADEpUAaGwkAAAAAAIBFQBEAAAAAAIBHQCEAAAAAAACsQBobCQAAAAAAgEdAEQAAAAAAgElAIQAAAAAA0KdAGhsJAAAAAACASUARAAAAAACAS0AhAAAAAADspEAaGwkAAAAAAIBLQBEAAAAAAIBXQCEAAAAAAMCnQCABQgUKA2FnZRqRBxACIoUHCrgCCJ/3ARgBIAEtAACAPzKkAhobCQAAAAAAAPA/EQAAAAAAAPA/IWZmZmZmuahAGhsJAAAAAAAA8D8RAAAAAAAA8D8hZmZmZma5qEAaGwkAAAAAAADwPxEAAAAAAADwPyFmZmZmZrmoQBobCQAAAAAAAPA/EQAAAAAAAPA/IWZmZmZmuahAGhsJAAAAAAAA8D8RAAAAAAAA8D8hZmZmZma5qEAaGwkAAAAAAADwPxEAAAAAAADwPyFmZmZmZrmoQBobCQAAAAAAAPA/EQAAAAAAAPA/IWZmZmZmuahAGhsJAAAAAAAA8D8RAAAAAAAA8D8hZmZmZma5qEAaGwkAAAAAAADwPxEAAAAAAADwPyFmZmZmZrmoQBobCQAAAAAAAPA/EQAAAAAAAPA/IWZmZmZmuahAIAFAn/cBEAwaFhILYmx1ZS1jb2xsYXIZAAAAAAAju0AaFRIKbWFuYWdlbWVudBkAAAAAADG6QBoVEgp0ZWNobmljaWFuGQAAAAAANLZAGhESBmFkbWluLhkAAAAAADSqQBoTEghzZXJ2aWNlcxkAAAAAACqnQBoSEgdyZXRpcmVkGQAAAAAAPJNAGhgSDXNlbGYtZW1wbG95ZWQZAAAAAAAwkkAaFxIMZW50cmVwcmVuZXVyGQAAAAAAIJJAGhQSCWhvdXNlbWFpZBkAAAAAAEiOQBoVEgp1bmVtcGxveWVkGQAAAAAAsI1AGhISB3N0dWRlbnQZAAAAAACQckAaEhIHdW5rbm93bhkAAAAAAKBrQCXwhhlBKrYCChYiC2JsdWUtY29sbGFyKQAAAAAAI7tAChkIARABIgptYW5hZ2VtZW50KQAAAAAAMbpAChkIAhACIgp0ZWNobmljaWFuKQAAAAAANLZAChUIAxADIgZhZG1pbi4pAAAAAAA0qkAKFwgEEAQiCHNlcnZpY2VzKQAAAAAAKqdAChYIBRAFIgdyZXRpcmVkKQAAAAAAPJNAChwIBhAGIg1zZWxmLWVtcGxveWVkKQAAAAAAMJJAChsIBxAHIgxlbnRyZXByZW5ldXIpAAAAAAAgkkAKGAgIEAgiCWhvdXNlbWFpZCkAAAAAAEiOQAoZCAkQCSIKdW5lbXBsb3llZCkAAAAAALCNQAoWCAoQCiIHc3R1ZGVudCkAAAAAAJByQAoWCAsQCyIHdW5rbm93bikAAAAAAKBrQEIFCgNqb2Ia1AMQAiLEAwq4Agif9wEYASABLQAAgD8ypAIaGwkAAAAAAADwPxEAAAAAAADwPyFmZmZmZrmoQBobCQAAAAAAAPA/EQAAAAAAAPA/IWZmZmZmuahAGhsJAAAAAAAA8D8RAAAAAAAA8D8hZmZmZma5qEAaGwkAAAAAAADwPxEAAAAAAADwPyFmZmZmZrmoQBobCQAAAAAAAPA/EQAAAAAAAPA/IWZmZmZmuahAGhsJAAAAAAAA8D8RAAAAAAAA8D8hZmZmZma5qEAaGwkAAAAAAADwPxEAAAAAAADwPyFmZmZmZrmoQBobCQAAAAAAAPA/EQAAAAAAAPA/IWZmZmZmuahAGhsJAAAAAAAA8D8RAAAAAAAA8D8hZmZmZma5qEAaGwkAAAAAAADwPxEAAAAAAADwPyFmZmZmZrmoQCABQJ/3ARADGhISB21hcnJpZWQZAAAAAIBR00AaERIGc2luZ2xlGQAAAAAAgr9AGhMSCGRpdm9yY2VkGQAAAAAArq1AJXev20AqRAoSIgdtYXJyaWVkKQAAAACAUdNAChUIARABIgZzaW5nbGUpAAAAAACCv0AKFwgCEAIiCGRpdm9yY2VkKQAAAAAArq1AQgkKB21hcml0YWwaiAQQAiL2Awq4Agif9wEYASABLQAAgD8ypAIaGwkAAAAAAADwPxEAAAAAAADwPyFmZmZmZrmoQBobCQAAAAAAAPA/EQAAAAAAAPA/IWZmZmZmuahAGhsJAAAAAAAA8D8RAAAAAAAA8D8hZmZmZma5qEAaGwkAAAAAAADwPxEAAAAAAADwPyFmZmZmZrmoQBobCQAAAAAAAPA/EQAAAAAAAPA/IWZmZmZmuahAGhsJAAAAAAAA8D8RAAAAAAAA8D8hZmZmZma5qEAaGwkAAAAAAADwPxEAAAAAAADwPyFmZmZmZrmoQBobCQAAAAAAAPA/EQAAAAAAAPA/IWZmZmZmuahAGhsJAAAAAAAA8D8RAAAAAAAA8D8hZmZmZma5qEAaGwkAAAAAAADwPxEAAAAAAADwPyFmZmZmZrmoQCABQJ/3ARAEGhQSCXNlY29uZGFyeRkAAAAAANfPQBoTEgh0ZXJ0aWFyeRkAAAAAAMTBQBoSEgdwcmltYXJ5GQAAAAAAcbNAGhISB3Vua25vd24ZAAAAAADgk0AlIxUFQSpfChQiCXNlY29uZGFyeSkAAAAAANfPQAoXCAEQASIIdGVydGlhcnkpAAAAAADEwUAKFggCEAIiB3ByaW1hcnkpAAAAAABxs0AKFggDEAMiB3Vua25vd24pAAAAAADgk0BCCwoJZWR1Y2F0aW9uGpYDEAIihgMKuAIIn/cBGAEgAS0AAIA/MqQCGhsJAAAAAAAA8D8RAAAAAAAA8D8hZmZmZma5qEAaGwkAAAAAAADwPxEAAAAAAADwPyFmZmZmZrmoQBobCQAAAAAAAPA/EQAAAAAAAPA/IWZmZmZmuahAGhsJAAAAAAAA8D8RAAAAAAAA8D8hZmZmZma5qEAaGwkAAAAAAADwPxEAAAAAAADwPyFmZmZmZrmoQBobCQAAAAAAAPA/EQAAAAAAAPA/IWZmZmZmuahAGhsJAAAAAAAA8D8RAAAAAAAA8D8hZmZmZma5qEAaGwkAAAAAAADwPxEAAAAAAADwPyFmZmZmZrmoQBobCQAAAAAAAPA/EQAAAAAAAPA/IWZmZmZmuahAGhsJAAAAAAAA8D8RAAAAAAAA8D8hZmZmZma5qEAgAUCf9wEQAhoNEgJubxkAAAAAwDLeQBoOEgN5ZXMZAAAAAACghkAl03YBQCojCg0iAm5vKQAAAADAMt5AChIIARABIgN5ZXMpAAAAAACghkBCCQoHZGVmYXVsdBqzBxqlBwq4Agif9wEYASABLQAAgD8ypAIaGwkAAAAAAADwPxEAAAAAAADwPyFmZmZmZrmoQBobCQAAAAAAAPA/EQAAAAAAAPA/IWZmZmZmuahAGhsJAAAAAAAA8D8RAAAAAAAA8D8hZmZmZma5qEAaGwkAAAAAAADwPxEAAAAAAADwPyFmZmZmZrmoQBobCQAAAAAAAPA/EQAAAAAAAPA/IWZmZmZmuahAGhsJAAAAAAAA8D8RAAAAAAAA8D8hZmZmZma5qEAaGwkAAAAAAADwPxEAAAAAAADwPyFmZmZmZrmoQBobCQAAAAAAAPA/EQAAAAAAAPA/IWZmZmZmuahAGhsJAAAAAAAA8D8RAAAAAAAA8D8hZmZmZma5qEAaGwkAAAAAAADwPxEAAAAAAADwPyFmZmZmZrmoQCABQJ/3ARFmf6XLtzWUQBn78sMSciKnQCCcFSkAAAAAAFO/wDEAAAAAANB4QDkAAAAAEAf4QEKiAhobCQAAAAAAU7/AETQzMzMzgaRAIYF+fn7+qdpAGhsJNDMzMzOBpEARmpmZmRnqyUAh65cUXymCr0AaGwmamZmZGerJQBE0MzMz81nXQCGbUcrCsXptQBobCTQzMzPzWddAEc3MzMxs3+BAISn4dd8rbEZAGhsJzczMzGzf4EARAAAAAOAR5kAh5LanGUuCE0AaGwkAAAAA4BHmQBE0MzMzU0TrQCHotqcZS4ITQBobCTQzMzNTROtAETMzMzNjO/BAIeC2pxlLghNAGhsJMzMzM2M78EARzczMzJzU8kAh6LanGUuCE0AaGwnNzMzMnNTyQBFnZmZm1m31QCHotqcZS4ITQBobCWdmZmbWbfVAEQAAAAAQB/hAIeC2pxlLghNAQpICGhIJAAAAAABTv8AhAAAAAAA8tkAaEhEAAAAAAAAcQCEAAAAAACCFQBobCQAAAAAAABxAEQAAAAAAgFhAIQAAAAAAiKhAGhsJAAAAAACAWEARAAAAAAAAbUAhAAAAAADOqEAaGwkAAAAAAABtQBEAAAAAANB4QCEAAAAAAIqoQBobCQAAAAAA0HhAEQAAAAAAEIRAIQAAAAAAyqhAGhsJAAAAAAAQhEARAAAAAAAskEAhAAAAAAC0qEAaGwkAAAAAACyQQBEAAAAAADibQCEAAAAAALSoQBobCQAAAAAAOJtAEQAAAAAADqtAIQAAAAAAuKhAGhsJAAAAAAAOq0ARAAAAABAH+EAhAAAAAAC0qEAgAUIJCgdiYWxhbmNlGpYDEAIihgMKuAIIn/cBGAEgAS0AAIA/MqQCGhsJAAAAAAAA8D8RAAAAAAAA8D8hZmZmZma5qEAaGwkAAAAAAADwPxEAAAAAAADwPyFmZmZmZrmoQBobCQAAAAAAAPA/EQAAAAAAAPA/IWZmZmZmuahAGhsJAAAAAAAA8D8RAAAAAAAA8D8hZmZmZma5qEAaGwkAAAAAAADwPxEAAAAAAADwPyFmZmZmZrmoQBobCQAAAAAAAPA/EQAAAAAAAPA/IWZmZmZmuahAGhsJAAAAAAAA8D8RAAAAAAAA8D8hZmZmZma5qEAaGwkAAAAAAADwPxEAAAAAAADwPyFmZmZmZrmoQBobCQAAAAAAAPA/EQAAAAAAAPA/IWZmZmZmuahAGhsJAAAAAAAA8D8RAAAAAAAA8D8hZmZmZma5qEAgAUCf9wEQAhoOEgN5ZXMZAAAAAEDT0EAaDRICbm8ZAAAAAAApzEAlpdciQCojCg4iA3llcykAAAAAQNPQQAoRCAEQASICbm8pAAAAAAApzEBCCQoHaG91c2luZxqTAxACIoYDCrgCCJ/3ARgBIAEtAACAPzKkAhobCQAAAAAAAPA/EQAAAAAAAPA/IWZmZmZmuahAGhsJAAAAAAAA8D8RAAAAAAAA8D8hZmZmZma5qEAaGwkAAAAAAADwPxEAAAAAAADwPyFmZmZmZrmoQBobCQAAAAAAAPA/EQAAAAAAAPA/IWZmZmZmuahAGhsJAAAAAAAA8D8RAAAAAAAA8D8hZmZmZma5qEAaGwkAAAAAAADwPxEAAAAAAADwPyFmZmZmZrmoQBobCQAAAAAAAPA/EQAAAAAAAPA/IWZmZmZmuahAGhsJAAAAAAAA8D8RAAAAAAAA8D8hZmZmZma5qEAaGwkAAAAAAADwPxEAAAAAAADwPyFmZmZmZrmoQBobCQAAAAAAAPA/EQAAAAAAAPA/IWZmZmZmuahAIAFAn/cBEAIaDRICbm8ZAAAAAEA92UAaDhIDeWVzGQAAAAAAqrZAJcK7C0AqIwoNIgJubykAAAAAQD3ZQAoSCAEQASIDeWVzKQAAAAAAqrZAQgYKBGxvYW4a2gMQAiLKAwq4Agif9wEYASABLQAAgD8ypAIaGwkAAAAAAADwPxEAAAAAAADwPyFmZmZmZrmoQBobCQAAAAAAAPA/EQAAAAAAAPA/IWZmZmZmuahAGhsJAAAAAAAA8D8RAAAAAAAA8D8hZmZmZma5qEAaGwkAAAAAAADwPxEAAAAAAADwPyFmZmZmZrmoQBobCQAAAAAAAPA/EQAAAAAAAPA/IWZmZmZmuahAGhsJAAAAAAAA8D8RAAAAAAAA8D8hZmZmZma5qEAaGwkAAAAAAADwPxEAAAAAAADwPyFmZmZmZrmoQBobCQAAAAAAAPA/EQAAAAAAAPA/IWZmZmZmuahAGhsJAAAAAAAA8D8RAAAAAAAA8D8hZmZmZma5qEAaGwkAAAAAAADwPxEAAAAAAADwPyFmZmZmZrmoQCABQJ/3ARADGhMSCGNlbGx1bGFyGQAAAADAxtBAGhISB3Vua25vd24ZAAAAAIDuyEAaFBIJdGVsZXBob25lGQAAAAAAnJpAJYrQ9EAqRwoTIghjZWxsdWxhcikAAAAAwMbQQAoWCAEQASIHdW5rbm93bikAAAAAgO7IQAoYCAIQAiIJdGVsZXBob25lKQAAAAAAnJpAQgkKB2NvbnRhY3QavgcatAcKuAIIn/cBGAEgAS0AAIA/MqQCGhsJAAAAAAAA8D8RAAAAAAAA8D8hZmZmZma5qEAaGwkAAAAAAADwPxEAAAAAAADwPyFmZmZmZrmoQBobCQAAAAAAAPA/EQAAAAAAAPA/IWZmZmZmuahAGhsJAAAAAAAA8D8RAAAAAAAA8D8hZmZmZma5qEAaGwkAAAAAAADwPxEAAAAAAADwPyFmZmZmZrmoQBobCQAAAAAAAPA/EQAAAAAAAPA/IWZmZmZmuahAGhsJAAAAAAAA8D8RAAAAAAAA8D8hZmZmZma5qEAaGwkAAAAAAADwPxEAAAAAAADwPyFmZmZmZrmoQBobCQAAAAAAAPA/EQAAAAAAAPA/IWZmZmZmuahAGhsJAAAAAAAA8D8RAAAAAAAA8D8hZmZmZma5qEAgAUCf9wER6a3bNUKZMEAZWLpkBhosIUApAAAAAAAA8D8xAAAAAAAAMkA5AAAAAAAAP0BCogIaGwkAAAAAAADwPxEAAAAAAAAQQCEAAAAAAHKmQBobCQAAAAAAABBAEQAAAAAAABxAIf//////Sa1AGhsJAAAAAAAAHEARAAAAAAAAJEAhCgAAAAC4pUAaGwkAAAAAAAAkQBEAAAAAAAAqQCEBAAAAAPShQBobCQAAAAAAACpAEQAAAAAAADBAIfj/////v6RAGhsJAAAAAAAAMEARAAAAAAAAM0Ah+v////89sUAaGwkAAAAAAAAzQBEAAAAAAAA2QCH0/////9SxQBobCQAAAAAAADZAEQAAAAAAADlAIQAAAAAAFJtAGhsJAAAAAAAAOUARAAAAAAAAPEAh+f////9xqUAaGwkAAAAAAAA8QBEAAAAAAAA/QCHz//////OpQEKkAhobCQAAAAAAAPA/EQAAAAAAABRAIQAAAAAAi7BAGhsJAAAAAAAAFEARAAAAAAAAHEAhAAAAAACmokAaGwkAAAAAAAAcQBEAAAAAAAAmQCEAAAAAAASsQBobCQAAAAAAACZAEQAAAAAAACxAIQAAAAAAaKNAGhsJAAAAAAAALEARAAAAAAAAMkAhAAAAAABMsUAaGwkAAAAAAAAyQBEAAAAAAAA0QCEAAAAAAMCsQBobCQAAAAAAADRAEQAAAAAAADVAIQAAAAAAYJ1AGhsJAAAAAAAANUARAAAAAAAAOkAhAAAAAACqqEAaGwkAAAAAAAA6QBEAAAAAAAA9QCEAAAAAANqvQBobCQAAAAAAAD1AEQAAAAAAAD9AIQAAAAAAFJtAIAFCBQoDZGF5GtsFEAIizQUKuAIIn/cBGAEgAS0AAIA/MqQCGhsJAAAAAAAA8D8RAAAAAAAA8D8hZmZmZma5qEAaGwkAAAAAAADwPxEAAAAAAADwPyFmZmZmZrmoQBobCQAAAAAAAPA/EQAAAAAAAPA/IWZmZmZmuahAGhsJAAAAAAAA8D8RAAAAAAAA8D8hZmZmZma5qEAaGwkAAAAAAADwPxEAAAAAAADwPyFmZmZmZrmoQBobCQAAAAAAAPA/EQAAAAAAAPA/IWZmZmZmuahAGhsJAAAAAAAA8D8RAAAAAAAA8D8hZmZmZma5qEAaGwkAAAAAAADwPxEAAAAAAADwPyFmZmZmZrmoQBobCQAAAAAAAPA/EQAAAAAAAPA/IWZmZmZmuahAGhsJAAAAAAAA8D8RAAAAAAAA8D8hZmZmZma5qEAgAUCf9wEQCxoOEgNtYXkZAAAAAAAVv0AaDhIDanVsGQAAAAAA7LhAGg4SA2F1ZxkAAAAAAF+0QBoOEgNqdW4ZAAAAAACGsUAaDhIDbm92GQAAAAAAHKxAGg4SA2ZlYhkAAAAAAPChQBoOEgNqYW4ZAAAAAABgkkAaDhIDbWFyGQAAAAAAIHBAGg4SA2FwchkAAAAAAIBnQBoOEgNvY3QZAAAAAAAAVEAaDhIDZGVjGQAAAAAAACpAJQAAQEAq2AEKDiIDbWF5KQAAAAAAFb9AChIIARABIgNqdWwpAAAAAADsuEAKEggCEAIiA2F1ZykAAAAAAF+0QAoSCAMQAyIDanVuKQAAAAAAhrFAChIIBBAEIgNub3YpAAAAAAAcrEAKEggFEAUiA2ZlYikAAAAAAPChQAoSCAYQBiIDamFuKQAAAAAAYJJAChIIBxAHIgNtYXIpAAAAAAAgcEAKEggIEAgiA2FwcikAAAAAAIBnQAoSCAkQCSIDb2N0KQAAAAAAAFRAChIIChAKIgNkZWMpAAAAAAAAKkBCBwoFbW9udGgaqgcamwcKuAIIn/cBGAEgAS0AAIA/MqQCGhsJAAAAAAAA8D8RAAAAAAAA8D8hZmZmZma5qEAaGwkAAAAAAADwPxEAAAAAAADwPyFmZmZmZrmoQBobCQAAAAAAAPA/EQAAAAAAAPA/IWZmZmZmuahAGhsJAAAAAAAA8D8RAAAAAAAA8D8hZmZmZma5qEAaGwkAAAAAAADwPxEAAAAAAADwPyFmZmZmZrmoQBobCQAAAAAAAPA/EQAAAAAAAPA/IWZmZmZmuahAGhsJAAAAAAAA8D8RAAAAAAAA8D8hZmZmZma5qEAaGwkAAAAAAADwPxEAAAAAAADwPyFmZmZmZrmoQBobCQAAAAAAAPA/EQAAAAAAAPA/IWZmZmZmuahAGhsJAAAAAAAA8D8RAAAAAAAA8D8hZmZmZma5qEAgAUCf9wERSqDHJvqMb0AZS26swY9lcEAgAjEAAAAAAGBlQDkAAAAAADazQEKZAhoSEc3MzMzMvH5AIWtmZmZGPNtAGhsJzczMzMy8fkARzczMzMy8jkAhOW2g0wYdp0AaGwnNzMzMzLyOQBGamZmZmQ2XQCF4d3d3dx+DQBobCZqZmZmZDZdAEc3MzMzMvJ5AIVb1Zpg2gmBAGhsJzczMzMy8nkARAAAAAAA2o0Ah5+NWyIi/OkAaGwkAAAAAADajQBGamZmZmQ2nQCEJo458pugWQBobCZqZmZmZDadAETMzMzMz5apAIQOjjnym6BZAGhsJMzMzMzPlqkARzczMzMy8rkAhCaOOfKboFkAaGwnNzMzMzLyuQBEzMzMzM0qxQCEDo458pugWQBobCTMzMzMzSrFAEQAAAAAANrNAIQmjjnym6BZAQpsCGhIRAAAAAACATEAhAAAAAADyqEAaGwkAAAAAAIBMQBEAAAAAAEBVQCEAAAAAAJ6oQBobCQAAAAAAQFVAEQAAAAAAAFxAIQAAAAAASqlAGhsJAAAAAAAAXEARAAAAAABgYUAhAAAAAAA2qEAaGwkAAAAAAGBhQBEAAAAAAGBlQCEAAAAAAACpQBobCQAAAAAAYGVAEQAAAAAAYGpAIQAAAAAAUqhAGhsJAAAAAABgakARAAAAAACwcEAhAAAAAAD8qEAaGwkAAAAAALBwQBEAAAAAAFB2QCEAAAAAAHyoQBobCQAAAAAAUHZAEQAAAAAA6IBAIQAAAAAArKhAGhsJAAAAAADogEARAAAAAAA2s0AhAAAAAAC4qEAgAUIKCghkdXJhdGlvbhrDBxq0Bwq4Agif9wEYASABLQAAgD8ypAIaGwkAAAAAAADwPxEAAAAAAADwPyFmZmZmZrmoQBobCQAAAAAAAPA/EQAAAAAAAPA/IWZmZmZmuahAGhsJAAAAAAAA8D8RAAAAAAAA8D8hZmZmZma5qEAaGwkAAAAAAADwPxEAAAAAAADwPyFmZmZmZrmoQBobCQAAAAAAAPA/EQAAAAAAAPA/IWZmZmZmuahAGhsJAAAAAAAA8D8RAAAAAAAA8D8hZmZmZma5qEAaGwkAAAAAAADwPxEAAAAAAADwPyFmZmZmZrmoQBobCQAAAAAAAPA/EQAAAAAAAPA/IWZmZmZmuahAGhsJAAAAAAAA8D8RAAAAAAAA8D8hZmZmZma5qEAaGwkAAAAAAADwPxEAAAAAAADwPyFmZmZmZrmoQCABQJ/3AREYwvp38H8IQBk9fJ2ECxUMQCkAAAAAAADwPzEAAAAAAAAAQDkAAAAAAIBPQEKiAhobCQAAAAAAAPA/Ec3MzMzMzBxAIa9e8RUf09xAGhsJzczMzMzMHEARzczMzMzMKkAhK5dyKZeWlkAaGwnNzMzMzMwqQBGamZmZmZkzQCFFRERERLx5QBobCZqZmZmZmTNAEc3MzMzMzDlAIf//////L2RAGhsJzczMzMzMOUARAAAAAAAAQEAhZmZmZmYmUUAaGwkAAAAAAABAQBGamZmZmRlDQCHGkM5bDOkzQBobCZqZmZmZGUNAETMzMzMzM0ZAITZvMaTzFhdAGhsJMzMzMzMzRkARzczMzMxMSUAhPW8xpPMWF0AaGwnNzMzMzExJQBFnZmZmZmZMQCE9bzGk8xYXQBobCWdmZmZmZkxAEQAAAAAAgE9AITZvMaTzFhdAQqQCGhsJAAAAAAAA8D8RAAAAAAAA8D8hVVVVVVVJrEAaGwkAAAAAAADwPxEAAAAAAADwPyFVVVVVVUmsQBobCQAAAAAAAPA/EQAAAAAAAPA/IVVVVVVVSaxAGhsJAAAAAAAA8D8RAAAAAAAAAEAhVVVVVVVXp0AaGwkAAAAAAAAAQBEAAAAAAAAAQCFVVVVVVVenQBobCQAAAAAAAABAEQAAAAAAAABAIVVVVVVVV6dAGhsJAAAAAAAAAEARAAAAAAAACEAhAAAAAAAWr0AaGwkAAAAAAAAIQBEAAAAAAAAQQCEAAAAAAKylQBobCQAAAAAAABBAEQAAAAAAABhAIQAAAAAATqJAGhsJAAAAAAAAGEARAAAAAACAT0AhAAAAAABMpUAgAUIKCghjYW1wYWlnbhrABxq0Bwq4Agif9wEYASABLQAAgD8ypAIaGwkAAAAAAADwPxEAAAAAAADwPyFmZmZmZrmoQBobCQAAAAAAAPA/EQAAAAAAAPA/IWZmZmZmuahAGhsJAAAAAAAA8D8RAAAAAAAA8D8hZmZmZma5qEAaGwkAAAAAAADwPxEAAAAAAADwPyFmZmZmZrmoQBobCQAAAAAAAPA/EQAAAAAAAPA/IWZmZmZmuahAGhsJAAAAAAAA8D8RAAAAAAAA8D8hZmZmZma5qEAaGwkAAAAAAADwPxEAAAAAAADwPyFmZmZmZrmoQBobCQAAAAAAAPA/EQAAAAAAAPA/IWZmZmZmuahAGhsJAAAAAAAA8D8RAAAAAAAA8D8hZmZmZma5qEAaGwkAAAAAAADwPxEAAAAAAADwPyFmZmZmZrmoQCABQJ/3ARE1Cq7rL6QlQBlHUbK9MwtIQCkAAAAAAADwvzEAAAAAAADwvzkAAAAAAPB0QEKiAhobCQAAAAAAAPC/Ec3MzMzMTEBAIaaef9c6AN1AGhsJzczMzMxMQEARzczMzMyMUEAhj9p+hrAXL0AaGwnNzMzMzIxQQBE0MzMzM/NYQCE0IVBSXqBSQBobCTQzMzMz81hAEc3MzMzMrGBAIRFM9HeyinNAGhsJzczMzMysYEARAAAAAADgZEAh6lG4HoVrZ0AaGwkAAAAAAOBkQBE0MzMzMxNpQCE1MzMzM3mDQBobCTQzMzMzE2lAEWdmZmZmRm1AIZaZmZmZ4WZAGhsJZ2ZmZmZGbUARzczMzMy8cEAhAgAAAADgeUAaGwnNzMzMzLxwQBFnZmZmZtZyQCGLXZso2XVeQBobCWdmZmZm1nJAEQAAAAAA8HRAIX1WXypo9TFAQqQCGhsJAAAAAAAA8L8RAAAAAAAA8L8hVVVVVVWvqUAaGwkAAAAAAADwvxEAAAAAAADwvyFVVVVVVa+pQBobCQAAAAAAAPC/EQAAAAAAAPC/IVVVVVVVr6lAGhsJAAAAAAAA8L8RAAAAAAAA8L8hVVVVVVWvqUAaGwkAAAAAAADwvxEAAAAAAADwvyFVVVVVVa+pQBobCQAAAAAAAPC/EQAAAAAAAPC/IVVVVVVVr6lAGhsJAAAAAAAA8L8RAAAAAAAA8L8hVVVVVVWvqUAaGwkAAAAAAADwvxEAAAAAAADwvyFVVVVVVa+pQBobCQAAAAAAAPC/EQAAAAAAAPC/IVVVVVVVr6lAGhsJAAAAAAAA8L8RAAAAAADwdEAhAAAAAAAUoEAgAUIHCgVwZGF5cxqABhrxBQq4Agif9wEYASABLQAAgD8ypAIaGwkAAAAAAADwPxEAAAAAAADwPyFmZmZmZrmoQBobCQAAAAAAAPA/EQAAAAAAAPA/IWZmZmZmuahAGhsJAAAAAAAA8D8RAAAAAAAA8D8hZmZmZma5qEAaGwkAAAAAAADwPxEAAAAAAADwPyFmZmZmZrmoQBobCQAAAAAAAPA/EQAAAAAAAPA/IWZmZmZmuahAGhsJAAAAAAAA8D8RAAAAAAAA8D8hZmZmZma5qEAaGwkAAAAAAADwPxEAAAAAAADwPyFmZmZmZrmoQBobCQAAAAAAAPA/EQAAAAAAAPA/IWZmZmZmuahAGhsJAAAAAAAA8D8RAAAAAAAA8D8hZmZmZma5qEAaGwkAAAAAAADwPxEAAAAAAADwPyFmZmZmZrmoQCABQJ/3ARFpCmcCybHKPxkODxxCUCT/PyCV5wE5AAAAAAAwcUBCmQIaEhEAAAAAAIA7QCHYJ3ZiX+DeQBobCQAAAAAAgDtAEQAAAAAAgEtAIbETO7ETOwpAGhsJAAAAAACAS0ARAAAAAACgVEAhsRM7sRM7CkAaGwkAAAAAAKBUQBEAAAAAAIBbQCGxEzuxEzsKQBobCQAAAAAAgFtAEQAAAAAAMGFAIbETO7ETOwpAGhsJAAAAAAAwYUARAAAAAACgZEAhsRM7sRM7CkAaGwkAAAAAAKBkQBEAAAAAABBoQCGxEzuxEzsKQBobCQAAAAAAEGhAEQAAAAAAgGtAIbETO7ETOwpAGhsJAAAAAACAa0ARAAAAAADwbkAhsRM7sRM7CkAaGwkAAAAAAPBuQBEAAAAAADBxQCGxEzuxEzsKQEJ5GgkhVVVVVVWvqUAaCSFVVVVVVa+pQBoJIVVVVVVVr6lAGgkhVVVVVVWvqUAaCSFVVVVVVa+pQBoJIVVVVVVVr6lAGgkhVVVVVVWvqUAaCSFVVVVVVa+pQBoJIVVVVVVVr6lAGhIRAAAAAAAwcUAhAAAAAAAUoEAgAUIKCghwcmV2aW91cxr9AxACIuwDCrgCCJ/3ARgBIAEtAACAPzKkAhobCQAAAAAAAPA/EQAAAAAAAPA/IWZmZmZmuahAGhsJAAAAAAAA8D8RAAAAAAAA8D8hZmZmZma5qEAaGwkAAAAAAADwPxEAAAAAAADwPyFmZmZmZrmoQBobCQAAAAAAAPA/EQAAAAAAAPA/IWZmZmZmuahAGhsJAAAAAAAA8D8RAAAAAAAA8D8hZmZmZma5qEAaGwkAAAAAAADwPxEAAAAAAADwPyFmZmZmZrmoQBobCQAAAAAAAPA/EQAAAAAAAPA/IWZmZmZmuahAGhsJAAAAAAAA8D8RAAAAAAAA8D8hZmZmZma5qEAaGwkAAAAAAADwPxEAAAAAAADwPyFmZmZmZrmoQBobCQAAAAAAAPA/EQAAAAAAAPA/IWZmZmZmuahAIAFAn/cBEAQaEhIHdW5rbm93bhkAAAAAQOXcQBoSEgdmYWlsdXJlGQAAAAAAfJZAGhASBW90aGVyGQAAAAAA0IBAGhISB3N1Y2Nlc3MZAAAAAABAVEAleeneQCpaChIiB3Vua25vd24pAAAAAEDl3EAKFggBEAEiB2ZhaWx1cmUpAAAAAAB8lkAKFAgCEAIiBW90aGVyKQAAAAAA0IBAChYIAxADIgdzdWNjZXNzKQAAAAAAQFRAQgoKCHBvdXRjb21lGpADEAIihgMKuAIIn/cBGAEgAS0AAIA/MqQCGhsJAAAAAAAA8D8RAAAAAAAA8D8hZmZmZma5qEAaGwkAAAAAAADwPxEAAAAAAADwPyFmZmZmZrmoQBobCQAAAAAAAPA/EQAAAAAAAPA/IWZmZmZmuahAGhsJAAAAAAAA8D8RAAAAAAAA8D8hZmZmZma5qEAaGwkAAAAAAADwPxEAAAAAAADwPyFmZmZmZrmoQBobCQAAAAAAAPA/EQAAAAAAAPA/IWZmZmZmuahAGhsJAAAAAAAA8D8RAAAAAAAA8D8hZmZmZma5qEAaGwkAAAAAAADwPxEAAAAAAADwPyFmZmZmZrmoQBobCQAAAAAAAPA/EQAAAAAAAPA/IWZmZmZmuahAGhsJAAAAAAAA8D8RAAAAAAAA8D8hZmZmZma5qEAgAUCf9wEQAhoNEgJubxkAAAAAwBvdQBoOEgN5ZXMZAAAAAADAnEAll7gDQCojCg0iAm5vKQAAAADAG91AChIIARABIgN5ZXMpAAAAAADAnEBCAwoBeQ==\"></facets-overview>';\n",
       "        facets_iframe.srcdoc = facets_html;\n",
       "         facets_iframe.id = \"\";\n",
       "         setTimeout(() => {\n",
       "           facets_iframe.setAttribute('height', facets_iframe.contentWindow.document.body.offsetHeight + 'px')\n",
       "         }, 1500)\n",
       "         </script>"
      ],
      "text/plain": [
       "<IPython.core.display.HTML object>"
      ]
     },
     "metadata": {},
     "output_type": "display_data"
    }
   ],
   "source": [
    "### START CODE HERE\n",
    "# Generate evaluation dataset statistics\n",
    "# HINT: Remember to use the evaluation dataframe and to pass the stats_options (that you defined before) as an argument\n",
    "eval_stats = tfdv.generate_statistics_from_dataframe(eval_df, stats_options=stats_options)\n",
    "\n",
    "# Compare evaluation data with training data \n",
    "# HINT: Remember to use both the evaluation and training statistics with the lhs_statistics and rhs_statistics arguments\n",
    "# HINT: Assign the names of 'EVAL_DATASET' and 'TRAIN_DATASET' to the lhs and rhs protocols\n",
    "tfdv.visualize_statistics(lhs_statistics=eval_stats, rhs_statistics=train_stats,\n",
    "                          lhs_name='EVAL_DATASET', rhs_name='TRAIN_DATASET')\n",
    "                          \n",
    "### END CODE HERE"
   ]
  },
  {
   "cell_type": "code",
   "execution_count": 10,
   "metadata": {
    "id": "H4gIk4iFRuxx",
    "tags": [
     "graded"
    ]
   },
   "outputs": [
    {
     "name": "stdout",
     "output_type": "stream",
     "text": [
      "Number of features: 17\n",
      "Number of examples: 6781\n",
      "First feature: age\n",
      "Last feature: y\n"
     ]
    }
   ],
   "source": [
    "# TEST CODE\n",
    "\n",
    "# get the number of features used to compute statistics\n",
    "print(f\"Number of features: {len(eval_stats.datasets[0].features)}\")\n",
    "\n",
    "# check the number of examples used\n",
    "print(f\"Number of examples: {eval_stats.datasets[0].num_examples}\")\n",
    "\n",
    "# check the column names of the first and last feature\n",
    "print(f\"First feature: {eval_stats.datasets[0].features[0].path.step[0]}\")\n",
    "print(f\"Last feature: {eval_stats.datasets[0].features[-1].path.step[0]}\")"
   ]
  },
  {
   "attachments": {},
   "cell_type": "markdown",
   "metadata": {
    "id": "GmJGUeerRuxx"
   },
   "source": [
    "**Expected Output:**\n",
    "\n",
    "```\n",
    "Number of features: 17\n",
    "Number of examples: 6781\n",
    "First feature: age\n",
    "Last feature: y\n",
    "```"
   ]
  },
  {
   "attachments": {},
   "cell_type": "markdown",
   "metadata": {
    "id": "COwqJqf8aLGx"
   },
   "source": [
    "<a name='ex-5'></a>\n",
    "### Exercise 5: Detecting Anomalies ###\n",
    "\n",
    "At this point, you should ask if your evaluation dataset matches the schema from your training dataset. For instance, if you scroll through the output cell in the previous exercise, you can see that the categorical feature **marital** has 3 unique values in the training set while the evaluation dataset has 4. You can verify with the built-in Pandas `describe()` method as well."
   ]
  },
  {
   "cell_type": "code",
   "execution_count": 11,
   "metadata": {
    "id": "euwYU0usRuxy",
    "tags": [
     "graded"
    ]
   },
   "outputs": [
    {
     "data": {
      "text/plain": [
       "count       31647\n",
       "unique          3\n",
       "top       married\n",
       "freq        19782\n",
       "Name: marital, dtype: object"
      ]
     },
     "execution_count": 11,
     "metadata": {},
     "output_type": "execute_result"
    }
   ],
   "source": [
    "train_df[\"marital\"].describe()"
   ]
  },
  {
   "cell_type": "code",
   "execution_count": 12,
   "metadata": {
    "id": "BltliPxMRuxz",
    "tags": [
     "graded"
    ]
   },
   "outputs": [
    {
     "data": {
      "text/plain": [
       "count        6781\n",
       "unique          4\n",
       "top       married\n",
       "freq         3898\n",
       "Name: marital, dtype: object"
      ]
     },
     "execution_count": 12,
     "metadata": {},
     "output_type": "execute_result"
    }
   ],
   "source": [
    "eval_df[\"marital\"].describe()"
   ]
  },
  {
   "attachments": {},
   "cell_type": "markdown",
   "metadata": {
    "id": "14tvh6WbRuxz"
   },
   "source": [
    "It is possible but highly inefficient to visually inspect and determine all the anomalies. So, let's instead use TFDV functions to detect and display these.\n",
    "\n",
    "You can use the function [`tfdv.validate_statistics()`](https://www.tensorflow.org/tfx/data_validation/api_docs/python/tfdv/validate_statistics) for detecting anomalies and [`tfdv.display_anomalies()`](https://www.tensorflow.org/tfx/data_validation/api_docs/python/tfdv/display_anomalies) for displaying them.\n",
    "\n",
    "The `validate_statistics()` method has two required arguments:\n",
    "- an instance of `DatasetFeatureStatisticsList`\n",
    "- an instance of `Schema`\n",
    "\n",
    "Fill in the following graded function which, given the statistics and schema, displays the anomalies found."
   ]
  },
  {
   "cell_type": "code",
   "execution_count": 13,
   "metadata": {
    "id": "QBUX-ocHs5NK",
    "tags": [
     "graded"
    ]
   },
   "outputs": [],
   "source": [
    "def calculate_and_display_anomalies(statistics, schema):\n",
    "    '''\n",
    "    Calculate and display anomalies.\n",
    "\n",
    "            Parameters:\n",
    "                    statistics : Data statistics in statistics_pb2.DatasetFeatureStatisticsList format\n",
    "                    schema : Data schema in schema_pb2.Schema format\n",
    "\n",
    "            Returns:\n",
    "                    display of calculated anomalies\n",
    "    '''\n",
    "    ### START CODE HERE\n",
    "    # HINTS: Pass the statistics and schema parameters into the validation function \n",
    "    anomalies = tfdv.validate_statistics(statistics,schema)\n",
    "    \n",
    "    # HINTS: Display input anomalies by using the calculated anomalies\n",
    "    tfdv.display_anomalies(anomalies)\n",
    "    ### END CODE HERE"
   ]
  },
  {
   "attachments": {},
   "cell_type": "markdown",
   "metadata": {
    "id": "nuqw_UdwRux0"
   },
   "source": [
    "You should see detected anomalies in the `marital` and `contact` features by running the cell below."
   ]
  },
  {
   "cell_type": "code",
   "execution_count": 14,
   "metadata": {
    "graded": true,
    "id": "T7uGVeL2WOam",
    "name": "calculate_and_display_anomalies",
    "tags": [
     "graded"
    ]
   },
   "outputs": [
    {
     "data": {
      "text/html": [
       "<div>\n",
       "<style scoped>\n",
       "    .dataframe tbody tr th:only-of-type {\n",
       "        vertical-align: middle;\n",
       "    }\n",
       "\n",
       "    .dataframe tbody tr th {\n",
       "        vertical-align: top;\n",
       "    }\n",
       "\n",
       "    .dataframe thead th {\n",
       "        text-align: right;\n",
       "    }\n",
       "</style>\n",
       "<table border=\"1\" class=\"dataframe\">\n",
       "  <thead>\n",
       "    <tr style=\"text-align: right;\">\n",
       "      <th></th>\n",
       "      <th>Anomaly short description</th>\n",
       "      <th>Anomaly long description</th>\n",
       "    </tr>\n",
       "    <tr>\n",
       "      <th>Feature name</th>\n",
       "      <th></th>\n",
       "      <th></th>\n",
       "    </tr>\n",
       "  </thead>\n",
       "  <tbody>\n",
       "    <tr>\n",
       "      <th>'marital'</th>\n",
       "      <td>Unexpected string values</td>\n",
       "      <td>Examples contain values missing from the schema: widowed (&lt;1%).</td>\n",
       "    </tr>\n",
       "    <tr>\n",
       "      <th>'contact'</th>\n",
       "      <td>Unexpected string values</td>\n",
       "      <td>Examples contain values missing from the schema: email (&lt;1%).</td>\n",
       "    </tr>\n",
       "  </tbody>\n",
       "</table>\n",
       "</div>"
      ],
      "text/plain": [
       "             Anomaly short description  \\\n",
       "Feature name                             \n",
       "'marital'     Unexpected string values   \n",
       "'contact'     Unexpected string values   \n",
       "\n",
       "                                                      Anomaly long description  \n",
       "Feature name                                                                    \n",
       "'marital'     Examples contain values missing from the schema: widowed (<1%).   \n",
       "'contact'       Examples contain values missing from the schema: email (<1%).   "
      ]
     },
     "metadata": {},
     "output_type": "display_data"
    }
   ],
   "source": [
    "# Check evaluation data for errors by validating the evaluation data staticss using the previously inferred schema\n",
    "calculate_and_display_anomalies(eval_stats, schema=schema)"
   ]
  },
  {
   "attachments": {},
   "cell_type": "markdown",
   "metadata": {
    "id": "dzxx1gBpJIBa"
   },
   "source": [
    "<a name='ex-6'></a>\n",
    "### Exercise 6: Fix evaluation anomalies in the schema\n",
    "\n",
    "The evaluation data has records with values for the features **maritial** and **contact**  that were not included in the schema generated from the training data. You can fix this by adding the new values that exist in the evaluation dataset to the domain of these features."
   ]
  },
  {
   "attachments": {},
   "cell_type": "markdown",
   "metadata": {
    "id": "Uc4T8PnGRux1"
   },
   "source": [
    "To get the `domain` of a particular feature you can use [`tfdv.get_domain()`](https://www.tensorflow.org/tfx/data_validation/api_docs/python/tfdv/get_domain).\n",
    "\n",
    "You can use the `append()` method to the `value` property of the returned `domain` to add strings to the valid list of values. To be more explicit, given a domain you can do something like:\n",
    "\n",
    "```python\n",
    "domain.value.append(\"feature_value\")\n",
    "\n",
    "```"
   ]
  },
  {
   "cell_type": "code",
   "execution_count": 15,
   "metadata": {
    "id": "legN2nXLWZAc",
    "tags": [
     "graded"
    ]
   },
   "outputs": [
    {
     "data": {
      "text/html": [
       "<h4 style=\"color:green;\">No anomalies found.</h4>"
      ],
      "text/plain": [
       "<IPython.core.display.HTML object>"
      ]
     },
     "metadata": {},
     "output_type": "display_data"
    }
   ],
   "source": [
    "### START CODE HERE\n",
    "\n",
    "# Get the domain associated with the input feature, marital, from the schema\n",
    "marital_domain = tfdv.get_domain(schema, 'marital') \n",
    "\n",
    "# HINT: Append the missing value 'widowed' to the domain\n",
    "marital_domain.value.append(\"widowed\")\n",
    "\n",
    "# Get the domain associated with the input feature, contact, from the schema\n",
    "contact_domain = tfdv.get_domain(schema, 'contact') \n",
    "\n",
    "# HINT: Append the missing value 'email' to the domain\n",
    "contact_domain.value.append(\"email\")\n",
    "\n",
    "# HINT: Re-calculate and re-display anomalies with the new schema\n",
    "calculate_and_display_anomalies(eval_stats, schema=schema)\n",
    "### END CODE HERE"
   ]
  },
  {
   "attachments": {},
   "cell_type": "markdown",
   "metadata": {
    "id": "UqnnWIECRux1"
   },
   "source": [
    "If you did the exercise correctly, you should see *\"No anomalies found.\"* after running the cell above."
   ]
  },
  {
   "attachments": {},
   "cell_type": "markdown",
   "metadata": {
    "id": "KZ1P4ucHJj5o"
   },
   "source": [
    "<a name='6'></a>\n",
    "## 6 - Schema Environments\n",
    "\n",
    "By default, all datasets in a pipeline should use the same schema. However, there are some exceptions. \n",
    "\n",
    "For example, the **label column is dropped in the serving set** so this will be flagged when comparing with the training set schema. \n",
    "\n",
    "**In this case, introducing slight schema variations is necessary.**\n",
    "\n",
    "<a name='ex-7'></a>\n",
    "### Exercise 7: Check anomalies in the serving set\n",
    "\n",
    "Now you are going to check for anomalies in the **serving data**. The process is very similar to the one you previously did for the evaluation data with a little change. \n",
    "\n",
    "Let's create a new `StatsOptions` that is aware of the information provided by the schema and use it when generating statistics from the serving DataFrame."
   ]
  },
  {
   "cell_type": "code",
   "execution_count": 16,
   "metadata": {
    "id": "fQKaTgXmRux2",
    "tags": [
     "graded"
    ]
   },
   "outputs": [],
   "source": [
    "# Define a new statistics options by the tfdv.StatsOptions class for the serving data by passing the previously inferred schema\n",
    "options = tfdv.StatsOptions(schema=schema, \n",
    "                            infer_type_from_schema=True, \n",
    "                            feature_allowlist=cols)"
   ]
  },
  {
   "cell_type": "code",
   "execution_count": 17,
   "metadata": {
    "id": "OhtYF8aAczpd",
    "tags": [
     "graded"
    ]
   },
   "outputs": [
    {
     "data": {
      "text/html": [
       "<div>\n",
       "<style scoped>\n",
       "    .dataframe tbody tr th:only-of-type {\n",
       "        vertical-align: middle;\n",
       "    }\n",
       "\n",
       "    .dataframe tbody tr th {\n",
       "        vertical-align: top;\n",
       "    }\n",
       "\n",
       "    .dataframe thead th {\n",
       "        text-align: right;\n",
       "    }\n",
       "</style>\n",
       "<table border=\"1\" class=\"dataframe\">\n",
       "  <thead>\n",
       "    <tr style=\"text-align: right;\">\n",
       "      <th></th>\n",
       "      <th>Anomaly short description</th>\n",
       "      <th>Anomaly long description</th>\n",
       "    </tr>\n",
       "    <tr>\n",
       "      <th>Feature name</th>\n",
       "      <th></th>\n",
       "      <th></th>\n",
       "    </tr>\n",
       "  </thead>\n",
       "  <tbody>\n",
       "    <tr>\n",
       "      <th>'balance'</th>\n",
       "      <td>Unexpected data type</td>\n",
       "      <td>Expected data of type: INT but got STRING</td>\n",
       "    </tr>\n",
       "    <tr>\n",
       "      <th>'month'</th>\n",
       "      <td>Unexpected string values</td>\n",
       "      <td>Examples contain values missing from the schema: sep (~8%).</td>\n",
       "    </tr>\n",
       "    <tr>\n",
       "      <th>'y'</th>\n",
       "      <td>Column dropped</td>\n",
       "      <td>Column is completely missing</td>\n",
       "    </tr>\n",
       "  </tbody>\n",
       "</table>\n",
       "</div>"
      ],
      "text/plain": [
       "             Anomaly short description  \\\n",
       "Feature name                             \n",
       "'balance'         Unexpected data type   \n",
       "'month'       Unexpected string values   \n",
       "'y'                     Column dropped   \n",
       "\n",
       "                                                  Anomaly long description  \n",
       "Feature name                                                                \n",
       "'balance'                        Expected data of type: INT but got STRING  \n",
       "'month'       Examples contain values missing from the schema: sep (~8%).   \n",
       "'y'                                           Column is completely missing  "
      ]
     },
     "metadata": {},
     "output_type": "display_data"
    }
   ],
   "source": [
    "### START CODE HERE\n",
    "# Generate serving dataset statistics\n",
    "# HINT: Remember to use the serving dataframe and to pass the newly defined statistics options\n",
    "serving_stats = tfdv.generate_statistics_from_dataframe(serving_df, stats_options=options)\n",
    "\n",
    "# HINT: Calculate and display anomalies using the generated serving statistics\n",
    "calculate_and_display_anomalies(serving_stats, schema=schema)\n",
    "### END CODE HERE"
   ]
  },
  {
   "attachments": {},
   "cell_type": "markdown",
   "metadata": {
    "id": "C1i-g-j6Rux2"
   },
   "source": [
    "You should see that the `month` feature has an anomaly (i.e. Unexpected string values) which is roughly 8%. This is due to the time-span in which the data has been collected and therefore neglectable.\n",
    "\n",
    "Let's **relax the anomaly detection constraint** for this feature by defining the `min_domain_mass` of the feature's distribution constraints."
   ]
  },
  {
   "cell_type": "code",
   "execution_count": 18,
   "metadata": {
    "id": "nfnK1ktDRux2",
    "tags": [
     "graded"
    ]
   },
   "outputs": [
    {
     "data": {
      "text/html": [
       "<div>\n",
       "<style scoped>\n",
       "    .dataframe tbody tr th:only-of-type {\n",
       "        vertical-align: middle;\n",
       "    }\n",
       "\n",
       "    .dataframe tbody tr th {\n",
       "        vertical-align: top;\n",
       "    }\n",
       "\n",
       "    .dataframe thead th {\n",
       "        text-align: right;\n",
       "    }\n",
       "</style>\n",
       "<table border=\"1\" class=\"dataframe\">\n",
       "  <thead>\n",
       "    <tr style=\"text-align: right;\">\n",
       "      <th></th>\n",
       "      <th>Anomaly short description</th>\n",
       "      <th>Anomaly long description</th>\n",
       "    </tr>\n",
       "    <tr>\n",
       "      <th>Feature name</th>\n",
       "      <th></th>\n",
       "      <th></th>\n",
       "    </tr>\n",
       "  </thead>\n",
       "  <tbody>\n",
       "    <tr>\n",
       "      <th>'y'</th>\n",
       "      <td>Column dropped</td>\n",
       "      <td>Column is completely missing</td>\n",
       "    </tr>\n",
       "    <tr>\n",
       "      <th>'balance'</th>\n",
       "      <td>Unexpected data type</td>\n",
       "      <td>Expected data of type: INT but got STRING</td>\n",
       "    </tr>\n",
       "  </tbody>\n",
       "</table>\n",
       "</div>"
      ],
      "text/plain": [
       "             Anomaly short description  \\\n",
       "Feature name                             \n",
       "'y'                     Column dropped   \n",
       "'balance'         Unexpected data type   \n",
       "\n",
       "                               Anomaly long description  \n",
       "Feature name                                             \n",
       "'y'                        Column is completely missing  \n",
       "'balance'     Expected data of type: INT but got STRING  "
      ]
     },
     "metadata": {},
     "output_type": "display_data"
    }
   ],
   "source": [
    "# This relaxes the minimum fraction of values that must come from the domain for the feature.\n",
    "\n",
    "# Get the feature and relax to match 90% of the domain\n",
    "month = tfdv.get_feature(schema, 'month')\n",
    "month.distribution_constraints.min_domain_mass = 0.9 \n",
    "\n",
    "# Detect anomalies with the updated constraints\n",
    "calculate_and_display_anomalies(serving_stats, schema=schema)"
   ]
  },
  {
   "attachments": {},
   "cell_type": "markdown",
   "metadata": {
    "id": "Lb-bb_XSRux3"
   },
   "source": [
    "If the `month` feature is no longer part of the output cell, then the relaxation worked!"
   ]
  },
  {
   "attachments": {},
   "cell_type": "markdown",
   "metadata": {
    "id": "bJjh5rigc5xy"
   },
   "source": [
    "<a name='ex-8'></a>\n",
    "### Exercise 8: Detecting anomalies with environments\n",
    "\n",
    "There is still one thing to address. The `y` feature (which is the label column) showed up as an anomaly ('Column dropped'). Since labels are not expected in the serving data, let's tell TFDV to ignore this detected anomaly.\n",
    "\n",
    "This requirement of introducing slight schema variations can be expressed by using [environments](https://www.tensorflow.org/tfx/data_validation/get_started#schema_environments). In particular, features in the schema can be associated with a set of environments using `default_environment`, `in_environment` and `not_in_environment`."
   ]
  },
  {
   "cell_type": "code",
   "execution_count": 19,
   "metadata": {
    "id": "8lT01MTvRux5",
    "tags": [
     "graded"
    ]
   },
   "outputs": [],
   "source": [
    "# All features are by default in both TRAINING and SERVING environments.\n",
    "schema.default_environment.append('TRAINING')\n",
    "schema.default_environment.append('SERVING')"
   ]
  },
  {
   "attachments": {},
   "cell_type": "markdown",
   "metadata": {
    "id": "zHunUA_pRux5"
   },
   "source": [
    "Complete the code below to exclude the `y` feature from the `SERVING` environment.\n",
    "\n",
    "To achieve this, you can use the [`tfdv.get_feature()`](https://www.tensorflow.org/tfx/data_validation/api_docs/python/tfdv/get_feature) function to get the `y` feature from the inferred schema and use its `not_in_environment` attribute to specify that `y` should be removed from the `SERVING` environment's schema. This **attribute is a list** so you will have to **append** the name of the environment that you wish to omit this feature for.\n",
    "\n",
    "To be more explicit, given a feature you can do something like:\n",
    "\n",
    "```python\n",
    "feature.not_in_environment.append('NAME_OF_ENVIRONMENT')\n",
    "```\n",
    "\n",
    "The function `tfdv.get_feature` receives the following parameters:\n",
    "\n",
    "- `schema`: The schema.\n",
    "- `feature_path`: The path of the feature to obtain from the schema. In this case this is equal to the name of the feature."
   ]
  },
  {
   "cell_type": "code",
   "execution_count": 20,
   "metadata": {
    "id": "bnbnw8H6Lp2M",
    "tags": [
     "graded"
    ]
   },
   "outputs": [],
   "source": [
    "### START CODE HERE\n",
    "# Specify that 'y' feature is not in SERVING environment.\n",
    "# HINT: Append the 'SERVING' environmnet to the not_in_environment attribute of the feature\n",
    "tfdv.get_feature(schema, 'y').not_in_environment.append('SERVING')\n",
    "\n",
    "# HINT: Calculate anomalies with the validate_statistics function by using the serving statistics, \n",
    "# inferred schema and the SERVING environment parameter.\n",
    "serving_anomalies_with_env = tfdv.validate_statistics(serving_stats, schema, environment=\"SERVING\")\n",
    "### END CODE HERE"
   ]
  },
  {
   "attachments": {},
   "cell_type": "markdown",
   "metadata": {
    "id": "iaSPexV1Rux5"
   },
   "source": [
    "You should see \"No anomalies found\" by running the cell below."
   ]
  },
  {
   "cell_type": "code",
   "execution_count": 21,
   "metadata": {
    "id": "Hxskog3VRux5",
    "tags": [
     "graded"
    ]
   },
   "outputs": [
    {
     "data": {
      "text/html": [
       "<div>\n",
       "<style scoped>\n",
       "    .dataframe tbody tr th:only-of-type {\n",
       "        vertical-align: middle;\n",
       "    }\n",
       "\n",
       "    .dataframe tbody tr th {\n",
       "        vertical-align: top;\n",
       "    }\n",
       "\n",
       "    .dataframe thead th {\n",
       "        text-align: right;\n",
       "    }\n",
       "</style>\n",
       "<table border=\"1\" class=\"dataframe\">\n",
       "  <thead>\n",
       "    <tr style=\"text-align: right;\">\n",
       "      <th></th>\n",
       "      <th>Anomaly short description</th>\n",
       "      <th>Anomaly long description</th>\n",
       "    </tr>\n",
       "    <tr>\n",
       "      <th>Feature name</th>\n",
       "      <th></th>\n",
       "      <th></th>\n",
       "    </tr>\n",
       "  </thead>\n",
       "  <tbody>\n",
       "    <tr>\n",
       "      <th>'balance'</th>\n",
       "      <td>Unexpected data type</td>\n",
       "      <td>Expected data of type: INT but got STRING</td>\n",
       "    </tr>\n",
       "  </tbody>\n",
       "</table>\n",
       "</div>"
      ],
      "text/plain": [
       "             Anomaly short description  \\\n",
       "Feature name                             \n",
       "'balance'         Unexpected data type   \n",
       "\n",
       "                               Anomaly long description  \n",
       "Feature name                                             \n",
       "'balance'     Expected data of type: INT but got STRING  "
      ]
     },
     "metadata": {},
     "output_type": "display_data"
    }
   ],
   "source": [
    "# Display anomalies\n",
    "tfdv.display_anomalies(serving_anomalies_with_env)"
   ]
  },
  {
   "attachments": {},
   "cell_type": "markdown",
   "metadata": {
    "id": "pEAWCGBIRux5"
   },
   "source": [
    "Now you have succesfully addressed all anomaly-related issues!"
   ]
  },
  {
   "attachments": {},
   "cell_type": "markdown",
   "metadata": {
    "id": "yteMr3AGMYEp"
   },
   "source": [
    "<a name='7'></a>\n",
    "## 7 - Check for Data Drift and Skew"
   ]
  },
  {
   "attachments": {},
   "cell_type": "markdown",
   "metadata": {
    "id": "Foe3aT1OcePh"
   },
   "source": [
    "During data validation, you also need to check for data drift and data skew between the training and serving data. You can do this by specifying the [skew_comparator and drift_comparator](https://www.tensorflow.org/tfx/data_validation/get_started#checking_data_skew_and_drift) in the schema. \n",
    "\n",
    "Drift and skew is expressed in terms of [L-infinity distance](https://en.wikipedia.org/wiki/Chebyshev_distance) which evaluates the difference between vectors as the greatest of the differences along any coordinate dimension. The [Jensen Shannon divergence](https://en.wikipedia.org/wiki/Jensen–Shannon_divergence) is a measure for numeric data similar to the Kullback Leibler divergence.\n",
    "\n",
    "You can set the threshold distance so that you receive warnings when the drift is higher than is acceptable.  Setting the correct distance is typically an iterative process requiring domain knowledge and experimentation.\n",
    "\n",
    "Let's check for the skew in the **age** feature and drift in the **loan** feature."
   ]
  },
  {
   "cell_type": "code",
   "execution_count": 22,
   "metadata": {
    "id": "wEUsZm_rOd1Q",
    "tags": [
     "graded"
    ]
   },
   "outputs": [
    {
     "data": {
      "text/html": [
       "<div>\n",
       "<style scoped>\n",
       "    .dataframe tbody tr th:only-of-type {\n",
       "        vertical-align: middle;\n",
       "    }\n",
       "\n",
       "    .dataframe tbody tr th {\n",
       "        vertical-align: top;\n",
       "    }\n",
       "\n",
       "    .dataframe thead th {\n",
       "        text-align: right;\n",
       "    }\n",
       "</style>\n",
       "<table border=\"1\" class=\"dataframe\">\n",
       "  <thead>\n",
       "    <tr style=\"text-align: right;\">\n",
       "      <th></th>\n",
       "      <th>Anomaly short description</th>\n",
       "      <th>Anomaly long description</th>\n",
       "    </tr>\n",
       "    <tr>\n",
       "      <th>Feature name</th>\n",
       "      <th></th>\n",
       "      <th></th>\n",
       "    </tr>\n",
       "  </thead>\n",
       "  <tbody>\n",
       "    <tr>\n",
       "      <th>'age'</th>\n",
       "      <td>High approximate Jensen-Shannon divergence between training and serving</td>\n",
       "      <td>The approximate Jensen-Shannon divergence between training and serving is 0.94206 (up to six significant digits), above the threshold 0.03.</td>\n",
       "    </tr>\n",
       "    <tr>\n",
       "      <th>'loan'</th>\n",
       "      <td>High Linfty distance between current and previous</td>\n",
       "      <td>The Linfty distance between current and previous is 0.0426477 (up to six significant digits), above the threshold 0.03. The feature value with maximum difference is: no</td>\n",
       "    </tr>\n",
       "  </tbody>\n",
       "</table>\n",
       "</div>"
      ],
      "text/plain": [
       "                                                            Anomaly short description  \\\n",
       "Feature name                                                                            \n",
       "'age'         High approximate Jensen-Shannon divergence between training and serving   \n",
       "'loan'                              High Linfty distance between current and previous   \n",
       "\n",
       "                                                                                                                                                              Anomaly long description  \n",
       "Feature name                                                                                                                                                                            \n",
       "'age'                                      The approximate Jensen-Shannon divergence between training and serving is 0.94206 (up to six significant digits), above the threshold 0.03.  \n",
       "'loan'        The Linfty distance between current and previous is 0.0426477 (up to six significant digits), above the threshold 0.03. The feature value with maximum difference is: no  "
      ]
     },
     "metadata": {},
     "output_type": "display_data"
    }
   ],
   "source": [
    "# Calculate skew for the age feature\n",
    "skew = tfdv.get_feature(schema, 'age')\n",
    "skew.skew_comparator.jensen_shannon_divergence.threshold = 0.03 # domain knowledge helps to determine this threshold\n",
    "\n",
    "# Calculate drift for the loan feature\n",
    "drift = tfdv.get_feature(schema, 'loan')\n",
    "drift.drift_comparator.infinity_norm.threshold = 0.03 # domain knowledge helps to determine this threshold\n",
    "\n",
    "# Calculate anomalies\n",
    "skew_drift_anomalies = tfdv.validate_statistics(train_stats, schema,\n",
    "                                          previous_statistics=eval_stats,\n",
    "                                          serving_statistics=serving_stats)\n",
    "\n",
    "# Display anomalies\n",
    "tfdv.display_anomalies(skew_drift_anomalies)"
   ]
  },
  {
   "attachments": {},
   "cell_type": "markdown",
   "metadata": {
    "id": "Hq1WY8fJRux5"
   },
   "source": [
    "The detected anomaly distance for the feature **loan** is not too far from the threshold value of `0.03`. For this exercise, let's accept this as within bounds (i.e. you can set the distance to something like `0.05` instead)."
   ]
  },
  {
   "cell_type": "code",
   "execution_count": 23,
   "metadata": {},
   "outputs": [
    {
     "data": {
      "text/html": [
       "<div>\n",
       "<style scoped>\n",
       "    .dataframe tbody tr th:only-of-type {\n",
       "        vertical-align: middle;\n",
       "    }\n",
       "\n",
       "    .dataframe tbody tr th {\n",
       "        vertical-align: top;\n",
       "    }\n",
       "\n",
       "    .dataframe thead th {\n",
       "        text-align: right;\n",
       "    }\n",
       "</style>\n",
       "<table border=\"1\" class=\"dataframe\">\n",
       "  <thead>\n",
       "    <tr style=\"text-align: right;\">\n",
       "      <th></th>\n",
       "      <th>Anomaly short description</th>\n",
       "      <th>Anomaly long description</th>\n",
       "    </tr>\n",
       "    <tr>\n",
       "      <th>Feature name</th>\n",
       "      <th></th>\n",
       "      <th></th>\n",
       "    </tr>\n",
       "  </thead>\n",
       "  <tbody>\n",
       "    <tr>\n",
       "      <th>'age'</th>\n",
       "      <td>High approximate Jensen-Shannon divergence between training and serving</td>\n",
       "      <td>The approximate Jensen-Shannon divergence between training and serving is 0.94206 (up to six significant digits), above the threshold 0.03.</td>\n",
       "    </tr>\n",
       "  </tbody>\n",
       "</table>\n",
       "</div>"
      ],
      "text/plain": [
       "                                                            Anomaly short description  \\\n",
       "Feature name                                                                            \n",
       "'age'         High approximate Jensen-Shannon divergence between training and serving   \n",
       "\n",
       "                                                                                                                                 Anomaly long description  \n",
       "Feature name                                                                                                                                               \n",
       "'age'         The approximate Jensen-Shannon divergence between training and serving is 0.94206 (up to six significant digits), above the threshold 0.03.  "
      ]
     },
     "metadata": {},
     "output_type": "display_data"
    }
   ],
   "source": [
    "# Calculate skew for the age feature\n",
    "skew = tfdv.get_feature(schema, 'age')\n",
    "skew.skew_comparator.jensen_shannon_divergence.threshold = 0.03 # domain knowledge helps to determine this threshold\n",
    "\n",
    "# Calculate drift for the loan feature\n",
    "drift = tfdv.get_feature(schema, 'loan')\n",
    "drift.drift_comparator.infinity_norm.threshold = 0.05 # domain knowledge helps to determine this threshold\n",
    "\n",
    "# Calculate anomalies\n",
    "skew_drift_anomalies = tfdv.validate_statistics(train_stats, schema,\n",
    "                                          previous_statistics=eval_stats,\n",
    "                                          serving_statistics=serving_stats)\n",
    "\n",
    "# Display anomalies\n",
    "tfdv.display_anomalies(skew_drift_anomalies)"
   ]
  },
  {
   "attachments": {},
   "cell_type": "markdown",
   "metadata": {},
   "source": [
    "Clearly, there still is an issue with the feature **age** in the serving set. This needs further investigation."
   ]
  },
  {
   "cell_type": "code",
   "execution_count": 24,
   "metadata": {},
   "outputs": [
    {
     "data": {
      "text/html": [
       "<iframe id='facets-iframe' width=\"100%\" height=\"500px\"></iframe>\n",
       "        <script>\n",
       "        facets_iframe = document.getElementById('facets-iframe');\n",
       "        facets_html = '<script src=\"https://cdnjs.cloudflare.com/ajax/libs/webcomponentsjs/1.3.3/webcomponents-lite.js\"><\\/script><link rel=\"import\" href=\"https://raw.githubusercontent.com/PAIR-code/facets/master/facets-dist/facets-jupyter.html\"><facets-overview proto-input=\"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\"></facets-overview>';\n",
       "        facets_iframe.srcdoc = facets_html;\n",
       "         facets_iframe.id = \"\";\n",
       "         setTimeout(() => {\n",
       "           facets_iframe.setAttribute('height', facets_iframe.contentWindow.document.body.offsetHeight + 'px')\n",
       "         }, 1500)\n",
       "         </script>"
      ],
      "text/plain": [
       "<IPython.core.display.HTML object>"
      ]
     },
     "metadata": {},
     "output_type": "display_data"
    }
   ],
   "source": [
    "# Compare serving data with training data \n",
    "# HINT: Remember to use both the serving and training statistics with the lhs_statistics and rhs_statistics arguments\n",
    "# HINT: Assign the names of 'SERVING_DATASET' and 'TRAIN_DATASET' to the lhs and rhs protocols\n",
    "tfdv.visualize_statistics(lhs_statistics=serving_stats, rhs_statistics=train_stats,\n",
    "                          lhs_name='SERVING_DATASET', rhs_name='TRAIN_DATASET')"
   ]
  },
  {
   "attachments": {},
   "cell_type": "markdown",
   "metadata": {},
   "source": [
    "The maximum value for the feature **age** is extremly high. You are now interested in the unique values of the feature **age** and want to identify any systematic errors."
   ]
  },
  {
   "cell_type": "code",
   "execution_count": 25,
   "metadata": {},
   "outputs": [
    {
     "data": {
      "text/plain": [
       "array([   28,    37,    29,    41,    32,    39,    30,    27,    58,\n",
       "          40,    21,    31,    34,    60,    23,    22,    25,    52,\n",
       "          33,    50,    26,    48,    46,    38,    42,    44,    47,\n",
       "          35,    24,    51,    36,    49,    57,    56,    45,    59,\n",
       "          43, 30000,    55,    54,    53,    20,    83,    61,    78,\n",
       "          73,    64,    79,    68,    19,    66,    71,    63,    80,\n",
       "          69,    72,    70,    62,    82,    67,    65,    81,    75,\n",
       "          74,    77,    18,    76,    89,    84,    86,    95,    87,\n",
       "          92,    85,    90,    93,    88])"
      ]
     },
     "execution_count": 25,
     "metadata": {},
     "output_type": "execute_result"
    }
   ],
   "source": [
    "# Look for the unique values of the feature age in the serving_df\n",
    "\n",
    "serving_df[\"age\"].unique()"
   ]
  },
  {
   "attachments": {},
   "cell_type": "markdown",
   "metadata": {},
   "source": [
    "There is the value 30000 for age which clearly does not fit. You are now interested in identifying the respective rows with this value."
   ]
  },
  {
   "cell_type": "code",
   "execution_count": 26,
   "metadata": {},
   "outputs": [
    {
     "data": {
      "text/html": [
       "<div>\n",
       "<style scoped>\n",
       "    .dataframe tbody tr th:only-of-type {\n",
       "        vertical-align: middle;\n",
       "    }\n",
       "\n",
       "    .dataframe tbody tr th {\n",
       "        vertical-align: top;\n",
       "    }\n",
       "\n",
       "    .dataframe thead th {\n",
       "        text-align: right;\n",
       "    }\n",
       "</style>\n",
       "<table border=\"1\" class=\"dataframe\">\n",
       "  <thead>\n",
       "    <tr style=\"text-align: right;\">\n",
       "      <th></th>\n",
       "      <th>age</th>\n",
       "      <th>job</th>\n",
       "      <th>marital</th>\n",
       "      <th>education</th>\n",
       "      <th>default</th>\n",
       "      <th>balance</th>\n",
       "      <th>housing</th>\n",
       "      <th>loan</th>\n",
       "      <th>contact</th>\n",
       "      <th>day</th>\n",
       "      <th>month</th>\n",
       "      <th>duration</th>\n",
       "      <th>campaign</th>\n",
       "      <th>pdays</th>\n",
       "      <th>previous</th>\n",
       "      <th>poutcome</th>\n",
       "    </tr>\n",
       "  </thead>\n",
       "  <tbody>\n",
       "    <tr>\n",
       "      <th>127</th>\n",
       "      <td>30000</td>\n",
       "      <td>technician</td>\n",
       "      <td>married</td>\n",
       "      <td>secondary</td>\n",
       "      <td>no</td>\n",
       "      <td>225</td>\n",
       "      <td>yes</td>\n",
       "      <td>no</td>\n",
       "      <td>telephone</td>\n",
       "      <td>15</td>\n",
       "      <td>may</td>\n",
       "      <td>22</td>\n",
       "      <td>7</td>\n",
       "      <td>337</td>\n",
       "      <td>12</td>\n",
       "      <td>failure</td>\n",
       "    </tr>\n",
       "  </tbody>\n",
       "</table>\n",
       "</div>"
      ],
      "text/plain": [
       "       age         job  marital  education default balance housing loan  \\\n",
       "127  30000  technician  married  secondary      no     225     yes   no   \n",
       "\n",
       "       contact  day month  duration  campaign  pdays  previous poutcome  \n",
       "127  telephone   15   may        22         7    337        12  failure  "
      ]
     },
     "execution_count": 26,
     "metadata": {},
     "output_type": "execute_result"
    }
   ],
   "source": [
    "# Search for the rows with the value 30000 for the feature age in the serving_df\n",
    "\n",
    "serving_df[serving_df[\"age\"]==30000]"
   ]
  },
  {
   "attachments": {},
   "cell_type": "markdown",
   "metadata": {},
   "source": [
    "As only one row is impacted by the issue and there are plenty left, you can easily remove the issued row. Please do this now."
   ]
  },
  {
   "cell_type": "code",
   "execution_count": 27,
   "metadata": {},
   "outputs": [
    {
     "data": {
      "text/html": [
       "<div>\n",
       "<style scoped>\n",
       "    .dataframe tbody tr th:only-of-type {\n",
       "        vertical-align: middle;\n",
       "    }\n",
       "\n",
       "    .dataframe tbody tr th {\n",
       "        vertical-align: top;\n",
       "    }\n",
       "\n",
       "    .dataframe thead th {\n",
       "        text-align: right;\n",
       "    }\n",
       "</style>\n",
       "<table border=\"1\" class=\"dataframe\">\n",
       "  <thead>\n",
       "    <tr style=\"text-align: right;\">\n",
       "      <th></th>\n",
       "      <th>Anomaly short description</th>\n",
       "      <th>Anomaly long description</th>\n",
       "    </tr>\n",
       "    <tr>\n",
       "      <th>Feature name</th>\n",
       "      <th></th>\n",
       "      <th></th>\n",
       "    </tr>\n",
       "  </thead>\n",
       "  <tbody>\n",
       "    <tr>\n",
       "      <th>'age'</th>\n",
       "      <td>High approximate Jensen-Shannon divergence between training and serving</td>\n",
       "      <td>The approximate Jensen-Shannon divergence between training and serving is 0.0854732 (up to six significant digits), above the threshold 0.03.</td>\n",
       "    </tr>\n",
       "  </tbody>\n",
       "</table>\n",
       "</div>"
      ],
      "text/plain": [
       "                                                            Anomaly short description  \\\n",
       "Feature name                                                                            \n",
       "'age'         High approximate Jensen-Shannon divergence between training and serving   \n",
       "\n",
       "                                                                                                                                   Anomaly long description  \n",
       "Feature name                                                                                                                                                 \n",
       "'age'         The approximate Jensen-Shannon divergence between training and serving is 0.0854732 (up to six significant digits), above the threshold 0.03.  "
      ]
     },
     "metadata": {},
     "output_type": "display_data"
    }
   ],
   "source": [
    "# Remove the impacted row x in the serving_df\n",
    "\n",
    "serving_df = serving_df.drop(127)\n",
    "\n",
    "# Re-Calculate skew for the age feature\n",
    "serving_stats = tfdv.generate_statistics_from_dataframe(serving_df, stats_options=options)\n",
    "\n",
    "skew = tfdv.get_feature(schema, 'age')\n",
    "skew.skew_comparator.jensen_shannon_divergence.threshold = 0.03 # domain knowledge helps to determine this threshold\n",
    "\n",
    "# Calculate anomalies\n",
    "skew_drift_anomalies = tfdv.validate_statistics(train_stats, schema,\n",
    "                                          previous_statistics=eval_stats,\n",
    "                                          serving_statistics=serving_stats)\n",
    "\n",
    "# Display anomalies\n",
    "tfdv.display_anomalies(skew_drift_anomalies)"
   ]
  },
  {
   "attachments": {},
   "cell_type": "markdown",
   "metadata": {},
   "source": [
    "The skew for the feature **age** has declined immensly. From here you can decide whether you further investigate the case or change your threshold as it is neglectable. For this assignment we change the threshold to a value of 0.10 and thus relax the issue."
   ]
  },
  {
   "cell_type": "code",
   "execution_count": 28,
   "metadata": {},
   "outputs": [
    {
     "data": {
      "text/html": [
       "<h4 style=\"color:green;\">No anomalies found.</h4>"
      ],
      "text/plain": [
       "<IPython.core.display.HTML object>"
      ]
     },
     "metadata": {},
     "output_type": "display_data"
    }
   ],
   "source": [
    "# Calculate skew for the age feature\n",
    "skew = tfdv.get_feature(schema, 'age')\n",
    "skew.skew_comparator.jensen_shannon_divergence.threshold = 0.10 # domain knowledge helps to determine this threshold\n",
    "\n",
    "# Calculate anomalies\n",
    "skew_drift_anomalies = tfdv.validate_statistics(train_stats, schema,\n",
    "                                          previous_statistics=eval_stats,\n",
    "                                          serving_statistics=serving_stats)\n",
    "\n",
    "# Display anomalies\n",
    "tfdv.display_anomalies(skew_drift_anomalies)"
   ]
  },
  {
   "attachments": {},
   "cell_type": "markdown",
   "metadata": {},
   "source": [
    "Now, the issue should be resolved and no anomalies should be found."
   ]
  },
  {
   "attachments": {},
   "cell_type": "markdown",
   "metadata": {
    "id": "wJ5saC9eWvHx"
   },
   "source": [
    "<a name='8'></a>\n",
    "## 8 - Freeze the schema\n",
    "\n",
    "Now that the schema has been reviewed, you will store the schema in a file in its \"frozen\" state. This can be used to validate incoming data once your application goes live to your users.\n",
    "\n",
    "This is pretty straightforward using Tensorflow's `io` utils and TFDV's [`write_schema_text()`](https://www.tensorflow.org/tfx/data_validation/api_docs/python/tfdv/write_schema_text) function."
   ]
  },
  {
   "cell_type": "code",
   "execution_count": 29,
   "metadata": {
    "id": "ydkL4DkIWn18",
    "tags": [
     "graded"
    ]
   },
   "outputs": [],
   "source": [
    "# Create output directory\n",
    "OUTPUT_DIR = \"output\"\n",
    "file_io.recursive_create_dir(OUTPUT_DIR)\n",
    "\n",
    "# Use TensorFlow text output format pbtxt to store the schema\n",
    "schema_file = os.path.join(OUTPUT_DIR, 'schema.pbtxt')\n",
    "\n",
    "# write_schema_text function expect the defined schema and output path as parameters\n",
    "tfdv.write_schema_text(schema, schema_file) "
   ]
  },
  {
   "attachments": {},
   "cell_type": "markdown",
   "metadata": {
    "id": "LT5BMyUWRux7"
   },
   "source": [
    "After submitting this assignment, you can click the Jupyter logo in the left upper corner of the screen to check the Jupyter filesystem. The `schema.pbtxt` file should be inside the `output` directory. \n",
    "\n",
    "**Congratulations on finishing this week's assignment!** A lot of concepts where introduced and now you should feel more familiar with using TFDV for inferring schemas, anomaly detection and other data-related tasks.\n",
    "\n",
    "**Keep it up!**"
   ]
  }
 ],
 "metadata": {
  "colab": {
   "provenance": []
  },
  "kernelspec": {
   "display_name": "Python 3",
   "language": "python",
   "name": "python3"
  },
  "language_info": {
   "codemirror_mode": {
    "name": "ipython",
    "version": 3
   },
   "file_extension": ".py",
   "mimetype": "text/x-python",
   "name": "python",
   "nbconvert_exporter": "python",
   "pygments_lexer": "ipython3",
   "version": "3.8.16"
  }
 },
 "nbformat": 4,
 "nbformat_minor": 4
}

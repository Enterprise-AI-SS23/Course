{
 "cells": [
  {
   "attachments": {},
   "cell_type": "markdown",
   "id": "35bbaf3f",
   "metadata": {},
   "source": [
    "# Practice Exercise 3"
   ]
  },
  {
   "attachments": {},
   "cell_type": "markdown",
   "id": "ced945b1",
   "metadata": {},
   "source": [
    "Todays exercise will be focused on the analysis of your machine learning models. To this end, we will use the well-curated [deepchecks](https://github.com/deepchecks/deepchecks) library which besides data integrity and validation functions offers this toolset. \n",
    "\n",
    "<img src=\"https://raw.githubusercontent.com/deepchecks/deepchecks/ce15432c6224c4e2636481fc168bb9e3b01d734e/docs/source/_static/images/general/pipeline_when_to_validate.svg\">\n",
    "\n"
   ]
  },
  {
   "attachments": {},
   "cell_type": "markdown",
   "id": "bb015f39",
   "metadata": {},
   "source": [
    "## 1-Installs & Imports"
   ]
  },
  {
   "attachments": {},
   "cell_type": "markdown",
   "id": "30a77b74",
   "metadata": {},
   "source": [
    "### Install libraries\n",
    "\n",
    "The following packages are pre-installed if you are using GitHub Codespaces.\n",
    "\n",
    "If you do not use GitHub Codespaces with the pre-installed Kernel, please consider creating a conda environment with Python 3.8 and install the following packages manually. This will pull in all the dependencies and will be quick.\n"
   ]
  },
  {
   "cell_type": "code",
   "execution_count": 1,
   "id": "f00b2001",
   "metadata": {},
   "outputs": [],
   "source": [
    "# !pip install deepchecks\n",
    "# !pip install scikit-learn\n",
    "# !pip install lightgbm\n",
    "# !pip install seaborn\n",
    "# !pip install pandas==1.5.3"
   ]
  },
  {
   "cell_type": "code",
   "execution_count": 2,
   "id": "8d46437e-46f3-4be6-a66c-85ac6359bf3b",
   "metadata": {},
   "outputs": [],
   "source": [
    "import numpy as np\n",
    "from scipy import stats\n",
    "import pandas as pd\n",
    "import matplotlib.pyplot as plt\n",
    "import seaborn as sns\n",
    "from lightgbm import LGBMClassifier\n",
    "from sklearn.model_selection import train_test_split, RepeatedStratifiedKFold, StratifiedKFold\n",
    "\n",
    "pd.set_option('display.max_rows', None)\n",
    "pd.set_option('display.max_columns', None)\n",
    "pd.set_option('display.width', None)\n",
    "pd.set_option('display.max_colwidth', None)"
   ]
  },
  {
   "attachments": {},
   "cell_type": "markdown",
   "id": "1124c6d2",
   "metadata": {},
   "source": [
    "## 2-Data Imports"
   ]
  },
  {
   "attachments": {},
   "cell_type": "markdown",
   "id": "18e802ae",
   "metadata": {},
   "source": [
    "You will now load a custom dataset regarding loan approvals from the banking context with the label column 'loan_status'"
   ]
  },
  {
   "cell_type": "code",
   "execution_count": 3,
   "id": "03fc9f4a-ea6b-46e2-bb11-d62e03eb673c",
   "metadata": {},
   "outputs": [],
   "source": [
    "# Reading the loan data\n",
    "loan_df = pd.read_csv('data.csv')"
   ]
  },
  {
   "attachments": {},
   "cell_type": "markdown",
   "id": "91b1a466",
   "metadata": {},
   "source": [
    "Look at the data in brief!"
   ]
  },
  {
   "cell_type": "code",
   "execution_count": 4,
   "id": "05009480-a0be-44f3-8035-acfe872d0396",
   "metadata": {},
   "outputs": [
    {
     "data": {
      "text/html": [
       "<div>\n",
       "<style scoped>\n",
       "    .dataframe tbody tr th:only-of-type {\n",
       "        vertical-align: middle;\n",
       "    }\n",
       "\n",
       "    .dataframe tbody tr th {\n",
       "        vertical-align: top;\n",
       "    }\n",
       "\n",
       "    .dataframe thead th {\n",
       "        text-align: right;\n",
       "    }\n",
       "</style>\n",
       "<table border=\"1\" class=\"dataframe\">\n",
       "  <thead>\n",
       "    <tr style=\"text-align: right;\">\n",
       "      <th></th>\n",
       "      <th>loan_amnt</th>\n",
       "      <th>term</th>\n",
       "      <th>int_rate</th>\n",
       "      <th>installment</th>\n",
       "      <th>grade</th>\n",
       "      <th>sub_grade</th>\n",
       "      <th>emp_title</th>\n",
       "      <th>emp_length</th>\n",
       "      <th>home_ownership</th>\n",
       "      <th>annual_inc</th>\n",
       "      <th>verification_status</th>\n",
       "      <th>issue_d</th>\n",
       "      <th>loan_status</th>\n",
       "      <th>purpose</th>\n",
       "      <th>title</th>\n",
       "      <th>dti</th>\n",
       "      <th>earliest_cr_line</th>\n",
       "      <th>open_acc</th>\n",
       "      <th>pub_rec</th>\n",
       "      <th>revol_bal</th>\n",
       "      <th>revol_util</th>\n",
       "      <th>total_acc</th>\n",
       "      <th>initial_list_status</th>\n",
       "      <th>application_type</th>\n",
       "      <th>mort_acc</th>\n",
       "      <th>pub_rec_bankruptcies</th>\n",
       "      <th>address</th>\n",
       "    </tr>\n",
       "  </thead>\n",
       "  <tbody>\n",
       "    <tr>\n",
       "      <th>0</th>\n",
       "      <td>10000.0</td>\n",
       "      <td>36 months</td>\n",
       "      <td>11.44</td>\n",
       "      <td>329.48</td>\n",
       "      <td>B</td>\n",
       "      <td>B4</td>\n",
       "      <td>Marketing</td>\n",
       "      <td>10+ years</td>\n",
       "      <td>RENT</td>\n",
       "      <td>117000.0</td>\n",
       "      <td>Not Verified</td>\n",
       "      <td>Jan-2015</td>\n",
       "      <td>Fully Paid</td>\n",
       "      <td>vacation</td>\n",
       "      <td>Vacation</td>\n",
       "      <td>26.24</td>\n",
       "      <td>Jun-1990</td>\n",
       "      <td>16.0</td>\n",
       "      <td>0.0</td>\n",
       "      <td>36369.0</td>\n",
       "      <td>41.8</td>\n",
       "      <td>25.0</td>\n",
       "      <td>w</td>\n",
       "      <td>INDIVIDUAL</td>\n",
       "      <td>0.0</td>\n",
       "      <td>0.0</td>\n",
       "      <td>0174 Michelle Gateway\\r\\nMendozaberg, OK 22690</td>\n",
       "    </tr>\n",
       "    <tr>\n",
       "      <th>1</th>\n",
       "      <td>8000.0</td>\n",
       "      <td>36 months</td>\n",
       "      <td>11.99</td>\n",
       "      <td>265.68</td>\n",
       "      <td>B</td>\n",
       "      <td>B5</td>\n",
       "      <td>Credit analyst</td>\n",
       "      <td>4 years</td>\n",
       "      <td>MORTGAGE</td>\n",
       "      <td>65000.0</td>\n",
       "      <td>Not Verified</td>\n",
       "      <td>Jan-2015</td>\n",
       "      <td>Fully Paid</td>\n",
       "      <td>debt_consolidation</td>\n",
       "      <td>Debt consolidation</td>\n",
       "      <td>22.05</td>\n",
       "      <td>Jul-2004</td>\n",
       "      <td>17.0</td>\n",
       "      <td>0.0</td>\n",
       "      <td>20131.0</td>\n",
       "      <td>53.3</td>\n",
       "      <td>27.0</td>\n",
       "      <td>f</td>\n",
       "      <td>INDIVIDUAL</td>\n",
       "      <td>3.0</td>\n",
       "      <td>0.0</td>\n",
       "      <td>1076 Carney Fort Apt. 347\\r\\nLoganmouth, SD 05113</td>\n",
       "    </tr>\n",
       "    <tr>\n",
       "      <th>2</th>\n",
       "      <td>15600.0</td>\n",
       "      <td>36 months</td>\n",
       "      <td>10.49</td>\n",
       "      <td>506.97</td>\n",
       "      <td>B</td>\n",
       "      <td>B3</td>\n",
       "      <td>Statistician</td>\n",
       "      <td>&lt; 1 year</td>\n",
       "      <td>RENT</td>\n",
       "      <td>43057.0</td>\n",
       "      <td>Source Verified</td>\n",
       "      <td>Jan-2015</td>\n",
       "      <td>Fully Paid</td>\n",
       "      <td>credit_card</td>\n",
       "      <td>Credit card refinancing</td>\n",
       "      <td>12.79</td>\n",
       "      <td>Aug-2007</td>\n",
       "      <td>13.0</td>\n",
       "      <td>0.0</td>\n",
       "      <td>11987.0</td>\n",
       "      <td>92.2</td>\n",
       "      <td>26.0</td>\n",
       "      <td>f</td>\n",
       "      <td>INDIVIDUAL</td>\n",
       "      <td>0.0</td>\n",
       "      <td>0.0</td>\n",
       "      <td>87025 Mark Dale Apt. 269\\r\\nNew Sabrina, WV 05113</td>\n",
       "    </tr>\n",
       "    <tr>\n",
       "      <th>3</th>\n",
       "      <td>7200.0</td>\n",
       "      <td>36 months</td>\n",
       "      <td>6.49</td>\n",
       "      <td>220.65</td>\n",
       "      <td>A</td>\n",
       "      <td>A2</td>\n",
       "      <td>Client Advocate</td>\n",
       "      <td>6 years</td>\n",
       "      <td>RENT</td>\n",
       "      <td>54000.0</td>\n",
       "      <td>Not Verified</td>\n",
       "      <td>Nov-2014</td>\n",
       "      <td>Fully Paid</td>\n",
       "      <td>credit_card</td>\n",
       "      <td>Credit card refinancing</td>\n",
       "      <td>2.60</td>\n",
       "      <td>Sep-2006</td>\n",
       "      <td>6.0</td>\n",
       "      <td>0.0</td>\n",
       "      <td>5472.0</td>\n",
       "      <td>21.5</td>\n",
       "      <td>13.0</td>\n",
       "      <td>f</td>\n",
       "      <td>INDIVIDUAL</td>\n",
       "      <td>0.0</td>\n",
       "      <td>0.0</td>\n",
       "      <td>823 Reid Ford\\r\\nDelacruzside, MA 00813</td>\n",
       "    </tr>\n",
       "    <tr>\n",
       "      <th>4</th>\n",
       "      <td>24375.0</td>\n",
       "      <td>60 months</td>\n",
       "      <td>17.27</td>\n",
       "      <td>609.33</td>\n",
       "      <td>C</td>\n",
       "      <td>C5</td>\n",
       "      <td>Destiny Management Inc.</td>\n",
       "      <td>9 years</td>\n",
       "      <td>MORTGAGE</td>\n",
       "      <td>55000.0</td>\n",
       "      <td>Verified</td>\n",
       "      <td>Apr-2013</td>\n",
       "      <td>Charged Off</td>\n",
       "      <td>credit_card</td>\n",
       "      <td>Credit Card Refinance</td>\n",
       "      <td>33.95</td>\n",
       "      <td>Mar-1999</td>\n",
       "      <td>13.0</td>\n",
       "      <td>0.0</td>\n",
       "      <td>24584.0</td>\n",
       "      <td>69.8</td>\n",
       "      <td>43.0</td>\n",
       "      <td>f</td>\n",
       "      <td>INDIVIDUAL</td>\n",
       "      <td>1.0</td>\n",
       "      <td>0.0</td>\n",
       "      <td>679 Luna Roads\\r\\nGreggshire, VA 11650</td>\n",
       "    </tr>\n",
       "  </tbody>\n",
       "</table>\n",
       "</div>"
      ],
      "text/plain": [
       "   loan_amnt        term  int_rate  installment grade sub_grade  \\\n",
       "0    10000.0   36 months     11.44       329.48     B        B4   \n",
       "1     8000.0   36 months     11.99       265.68     B        B5   \n",
       "2    15600.0   36 months     10.49       506.97     B        B3   \n",
       "3     7200.0   36 months      6.49       220.65     A        A2   \n",
       "4    24375.0   60 months     17.27       609.33     C        C5   \n",
       "\n",
       "                 emp_title emp_length home_ownership  annual_inc  \\\n",
       "0                Marketing  10+ years           RENT    117000.0   \n",
       "1          Credit analyst     4 years       MORTGAGE     65000.0   \n",
       "2             Statistician   < 1 year           RENT     43057.0   \n",
       "3          Client Advocate    6 years           RENT     54000.0   \n",
       "4  Destiny Management Inc.    9 years       MORTGAGE     55000.0   \n",
       "\n",
       "  verification_status   issue_d  loan_status             purpose  \\\n",
       "0        Not Verified  Jan-2015   Fully Paid            vacation   \n",
       "1        Not Verified  Jan-2015   Fully Paid  debt_consolidation   \n",
       "2     Source Verified  Jan-2015   Fully Paid         credit_card   \n",
       "3        Not Verified  Nov-2014   Fully Paid         credit_card   \n",
       "4            Verified  Apr-2013  Charged Off         credit_card   \n",
       "\n",
       "                     title    dti earliest_cr_line  open_acc  pub_rec  \\\n",
       "0                 Vacation  26.24         Jun-1990      16.0      0.0   \n",
       "1       Debt consolidation  22.05         Jul-2004      17.0      0.0   \n",
       "2  Credit card refinancing  12.79         Aug-2007      13.0      0.0   \n",
       "3  Credit card refinancing   2.60         Sep-2006       6.0      0.0   \n",
       "4    Credit Card Refinance  33.95         Mar-1999      13.0      0.0   \n",
       "\n",
       "   revol_bal  revol_util  total_acc initial_list_status application_type  \\\n",
       "0    36369.0        41.8       25.0                   w       INDIVIDUAL   \n",
       "1    20131.0        53.3       27.0                   f       INDIVIDUAL   \n",
       "2    11987.0        92.2       26.0                   f       INDIVIDUAL   \n",
       "3     5472.0        21.5       13.0                   f       INDIVIDUAL   \n",
       "4    24584.0        69.8       43.0                   f       INDIVIDUAL   \n",
       "\n",
       "   mort_acc  pub_rec_bankruptcies  \\\n",
       "0       0.0                   0.0   \n",
       "1       3.0                   0.0   \n",
       "2       0.0                   0.0   \n",
       "3       0.0                   0.0   \n",
       "4       1.0                   0.0   \n",
       "\n",
       "                                             address  \n",
       "0     0174 Michelle Gateway\\r\\nMendozaberg, OK 22690  \n",
       "1  1076 Carney Fort Apt. 347\\r\\nLoganmouth, SD 05113  \n",
       "2  87025 Mark Dale Apt. 269\\r\\nNew Sabrina, WV 05113  \n",
       "3            823 Reid Ford\\r\\nDelacruzside, MA 00813  \n",
       "4             679 Luna Roads\\r\\nGreggshire, VA 11650  "
      ]
     },
     "execution_count": 4,
     "metadata": {},
     "output_type": "execute_result"
    }
   ],
   "source": [
    "loan_df.head()"
   ]
  },
  {
   "attachments": {},
   "cell_type": "markdown",
   "id": "a3c8b1b6-4db2-40e7-aba5-54bc0d21af1b",
   "metadata": {},
   "source": [
    "Data features meaning\n",
    "\n",
    "- loan_amnt: The listed amount of the loan applied for by the borrower. If at some point in time, the credit department reduces the loan amount, then it will be reflected in this value.\n",
    "- term: The number of payments on the loan. Values are in months and can be either 36 or 60.\n",
    "- int_rate:\tInterest Rate on the loan\n",
    "- installment: The monthly payment owed by the borrower if the loan originates.\n",
    "- grade: LC assigned loan grade\n",
    "- sub_grade: LC assigned loan subgrade\n",
    "- emp_title: The job title supplied by the Borrower when applying for the loan.*\n",
    "- emp_length: Employment length in years. Possible values are between 0 and 10 where 0 means less than one year and 10 means ten or more years.\n",
    "- home_ownership: The home ownership status provided by the borrower during registration or obtained from the credit report. Our values are: RENT, OWN, MORTGAGE, OTHER\n",
    "- annual_inc: The self-reported annual income provided by the borrower during registration.\n",
    "- verification_status: Indicates if income was verified by LC, not verified, or if the income source was verified\n",
    "- issue_d: The month which the loan was funded\n",
    "- loan_status: Current status of the loan\n",
    "- purpose: A category provided by the borrower for the loan request.\n",
    "- title: The loan title provided by the borrower\n",
    "- zip_code: The first 3 numbers of the zip code provided by the borrower in the loan application.\n",
    "- addr_state: The state provided by the borrower in the loan application\n",
    "- dti: A ratio calculated using the borrower’s total monthly debt payments on the total debt obligations, excluding mortgage and the requested LC loan, divided by the borrower’s self-reported monthly income.\n",
    "- earliest_cr_line: The month the borrower's earliest reported credit line was opened\n",
    "- open_acc: The number of open credit lines in the borrower's credit file.\n",
    "- pub_rec: Number of derogatory public records\n",
    "- revol_bal: Total credit revolving balance\n",
    "- revol_util: Revolving line utilization rate, or the amount of credit the borrower is using relative to all available revolving credit.\n",
    "- total_acc: The total number of credit lines currently in the borrower's credit file\n",
    "- initial_list_status: The initial listing status of the loan. Possible values are – W, F\n",
    "- application_type: Indicates whether the loan is an individual application or a joint application with two co-borrowers\n",
    "- mort_acc:\tNumber of mortgage accounts.\n",
    "- pub_rec_bankruptcies: Number of public record bankruptcies"
   ]
  },
  {
   "attachments": {},
   "cell_type": "markdown",
   "id": "cb9abf17",
   "metadata": {},
   "source": [
    "## 3-Data Preprocessing"
   ]
  },
  {
   "attachments": {},
   "cell_type": "markdown",
   "id": "ab412070",
   "metadata": {},
   "source": [
    "Some custom preproccesing to drop irrelevant features and encode categorical features for example"
   ]
  },
  {
   "cell_type": "code",
   "execution_count": 5,
   "id": "bb69a4fa-93a8-46a8-83ee-67f0aea0e0ee",
   "metadata": {},
   "outputs": [],
   "source": [
    "def quick_preprocessing(df):\n",
    "    # Feature Engineering\n",
    "    # ## Extract zip code from address feature\n",
    "    df['zip_code'] = df.address.apply(lambda x: x[-5:])\n",
    "    # ## convert date feature to date time feature\n",
    "    df['earliest_cr_line'] = pd.to_datetime(df['earliest_cr_line'])\n",
    "    ## Extract year from the earliest_cr_line feature\n",
    "    df['earliest_cr_line'] = df.earliest_cr_line.dt.year.astype(int)\n",
    "    \n",
    "    # Dropping features\n",
    "    ## charge off rates are extremely similar across all employment lengths. So we are going to drop the emp_length column.\n",
    "    ## grade is just a sub feature of sub_grade, So we are goinig to drop it.\n",
    "    ## issue_d will yield data leakage as it will show whether or not a loan would be issued when using our model.\n",
    "    ## gotten zip code feature for address and contains only text component, so we are going to drop it.\n",
    "    df.drop(columns=['emp_title', 'emp_length', 'title', 'grade', 'address', 'issue_d'], inplace=True)\n",
    "    \n",
    "    # Filling missing values with median value\n",
    "    df['mort_acc'] = df['mort_acc'].fillna(df['mort_acc'].median().round())\n",
    "    df['revol_util'] = df['revol_util'].fillna(df['revol_util'].median().round())\n",
    "    df['pub_rec_bankruptcies'] = df['pub_rec_bankruptcies'].fillna(df['pub_rec_bankruptcies'].median().round())\n",
    "    \n",
    "    ## Mapping features\n",
    "    term_values = {' 36 months': 36, ' 60 months': 60}\n",
    "    df['term'] = df.term.map(term_values)\n",
    "    ## Mapping target feature\n",
    "    df['loan_status'] = df.loan_status.map({'Fully Paid':1, 'Charged Off':0})\n",
    "    \n",
    "    # #Change cattegorical features to categorical data type\n",
    "    cat_columns =  ['sub_grade', 'verification_status', 'purpose', 'initial_list_status','application_type', 'home_ownership', 'zip_code']\n",
    "    # #Change some features to categorical data type\n",
    "    for item in cat_columns:\n",
    "        df[item] = df[item].astype(\"category\").cat.codes +1\n",
    "\n",
    "    # Categorical encoding\n",
    "    dummies = ['sub_grade', 'verification_status', 'purpose', 'initial_list_status','application_type', 'home_ownership', 'zip_code']\n",
    "    df = pd.get_dummies(df, columns=dummies, drop_first=True)\n",
    "    return df"
   ]
  },
  {
   "cell_type": "code",
   "execution_count": 6,
   "id": "f548823f-34de-434b-8ddc-214890c64671",
   "metadata": {},
   "outputs": [],
   "source": [
    "# Preprocessing the loan dataframe\n",
    "loan_df = quick_preprocessing(loan_df)"
   ]
  },
  {
   "attachments": {},
   "cell_type": "markdown",
   "id": "7e0ef228",
   "metadata": {},
   "source": [
    "Perform your train-test split"
   ]
  },
  {
   "cell_type": "code",
   "execution_count": 7,
   "id": "01992fa7-fa5c-47ee-989a-d8f895dadd8e",
   "metadata": {},
   "outputs": [],
   "source": [
    "# Seperating matrix of features and target variables respectively\n",
    "y =  loan_df['loan_status']\n",
    "X = loan_df.drop(['loan_status'], axis=1)\n",
    "\n",
    "# Splitting the data with a train:test ratio of 80:20\n",
    "X_train, X_test, y_train, y_test = train_test_split(X, y, test_size=0.20, random_state=42)"
   ]
  },
  {
   "attachments": {},
   "cell_type": "markdown",
   "id": "39b000a7",
   "metadata": {},
   "source": [
    "Create a deepchecks data object instance"
   ]
  },
  {
   "cell_type": "code",
   "execution_count": 8,
   "id": "2c3d213f-0ca0-4427-9b36-b5ae55573912",
   "metadata": {},
   "outputs": [
    {
     "name": "stderr",
     "output_type": "stream",
     "text": [
      "deepchecks - WARNING - It is recommended to initialize Dataset with categorical features by doing \"Dataset(df, cat_features=categorical_list)\". No categorical features were passed, therefore heuristically inferring categorical features in the data. 69 categorical features were inferred.: term, pub_rec, pub_rec_bankruptcies, sub_grade_2, sub_grade_3, sub_grade_4, sub_grade_5... For full list use dataset.cat_features\n",
      "deepchecks - WARNING - It is recommended to initialize Dataset with categorical features by doing \"Dataset(df, cat_features=categorical_list)\". No categorical features were passed, therefore heuristically inferring categorical features in the data. 70 categorical features were inferred.: term, pub_rec, mort_acc, pub_rec_bankruptcies, sub_grade_2, sub_grade_3, sub_grade_4... For full list use dataset.cat_features\n"
     ]
    }
   ],
   "source": [
    "from deepchecks.tabular import Dataset\n",
    "\n",
    "ds_train = X_train.merge(y_train, left_index=True, right_index=True)\n",
    "ds_test = X_test.merge(y_test, left_index=True, right_index=True)\n",
    "ds_train = Dataset(ds_train, label=\"loan_status\")\n",
    "ds_test =  Dataset(ds_test,  label=\"loan_status\")"
   ]
  },
  {
   "attachments": {},
   "cell_type": "markdown",
   "id": "5c2f9cd4",
   "metadata": {},
   "source": [
    "## 4-Modelling"
   ]
  },
  {
   "cell_type": "code",
   "execution_count": 9,
   "id": "9677f48a-95ce-40d8-bd48-0d11e2ec9eb9",
   "metadata": {},
   "outputs": [
    {
     "data": {
      "text/html": [
       "<style>#sk-container-id-1 {color: black;background-color: white;}#sk-container-id-1 pre{padding: 0;}#sk-container-id-1 div.sk-toggleable {background-color: white;}#sk-container-id-1 label.sk-toggleable__label {cursor: pointer;display: block;width: 100%;margin-bottom: 0;padding: 0.3em;box-sizing: border-box;text-align: center;}#sk-container-id-1 label.sk-toggleable__label-arrow:before {content: \"▸\";float: left;margin-right: 0.25em;color: #696969;}#sk-container-id-1 label.sk-toggleable__label-arrow:hover:before {color: black;}#sk-container-id-1 div.sk-estimator:hover label.sk-toggleable__label-arrow:before {color: black;}#sk-container-id-1 div.sk-toggleable__content {max-height: 0;max-width: 0;overflow: hidden;text-align: left;background-color: #f0f8ff;}#sk-container-id-1 div.sk-toggleable__content pre {margin: 0.2em;color: black;border-radius: 0.25em;background-color: #f0f8ff;}#sk-container-id-1 input.sk-toggleable__control:checked~div.sk-toggleable__content {max-height: 200px;max-width: 100%;overflow: auto;}#sk-container-id-1 input.sk-toggleable__control:checked~label.sk-toggleable__label-arrow:before {content: \"▾\";}#sk-container-id-1 div.sk-estimator input.sk-toggleable__control:checked~label.sk-toggleable__label {background-color: #d4ebff;}#sk-container-id-1 div.sk-label input.sk-toggleable__control:checked~label.sk-toggleable__label {background-color: #d4ebff;}#sk-container-id-1 input.sk-hidden--visually {border: 0;clip: rect(1px 1px 1px 1px);clip: rect(1px, 1px, 1px, 1px);height: 1px;margin: -1px;overflow: hidden;padding: 0;position: absolute;width: 1px;}#sk-container-id-1 div.sk-estimator {font-family: monospace;background-color: #f0f8ff;border: 1px dotted black;border-radius: 0.25em;box-sizing: border-box;margin-bottom: 0.5em;}#sk-container-id-1 div.sk-estimator:hover {background-color: #d4ebff;}#sk-container-id-1 div.sk-parallel-item::after {content: \"\";width: 100%;border-bottom: 1px solid gray;flex-grow: 1;}#sk-container-id-1 div.sk-label:hover label.sk-toggleable__label {background-color: #d4ebff;}#sk-container-id-1 div.sk-serial::before {content: \"\";position: absolute;border-left: 1px solid gray;box-sizing: border-box;top: 0;bottom: 0;left: 50%;z-index: 0;}#sk-container-id-1 div.sk-serial {display: flex;flex-direction: column;align-items: center;background-color: white;padding-right: 0.2em;padding-left: 0.2em;position: relative;}#sk-container-id-1 div.sk-item {position: relative;z-index: 1;}#sk-container-id-1 div.sk-parallel {display: flex;align-items: stretch;justify-content: center;background-color: white;position: relative;}#sk-container-id-1 div.sk-item::before, #sk-container-id-1 div.sk-parallel-item::before {content: \"\";position: absolute;border-left: 1px solid gray;box-sizing: border-box;top: 0;bottom: 0;left: 50%;z-index: -1;}#sk-container-id-1 div.sk-parallel-item {display: flex;flex-direction: column;z-index: 1;position: relative;background-color: white;}#sk-container-id-1 div.sk-parallel-item:first-child::after {align-self: flex-end;width: 50%;}#sk-container-id-1 div.sk-parallel-item:last-child::after {align-self: flex-start;width: 50%;}#sk-container-id-1 div.sk-parallel-item:only-child::after {width: 0;}#sk-container-id-1 div.sk-dashed-wrapped {border: 1px dashed gray;margin: 0 0.4em 0.5em 0.4em;box-sizing: border-box;padding-bottom: 0.4em;background-color: white;}#sk-container-id-1 div.sk-label label {font-family: monospace;font-weight: bold;display: inline-block;line-height: 1.2em;}#sk-container-id-1 div.sk-label-container {text-align: center;}#sk-container-id-1 div.sk-container {/* jupyter's `normalize.less` sets `[hidden] { display: none; }` but bootstrap.min.css set `[hidden] { display: none !important; }` so we also need the `!important` here to be able to override the default hidden behavior on the sphinx rendered scikit-learn.org. See: https://github.com/scikit-learn/scikit-learn/issues/21755 */display: inline-block !important;position: relative;}#sk-container-id-1 div.sk-text-repr-fallback {display: none;}</style><div id=\"sk-container-id-1\" class=\"sk-top-container\"><div class=\"sk-text-repr-fallback\"><pre>AdaBoostClassifier(random_state=42)</pre><b>In a Jupyter environment, please rerun this cell to show the HTML representation or trust the notebook. <br />On GitHub, the HTML representation is unable to render, please try loading this page with nbviewer.org.</b></div><div class=\"sk-container\" hidden><div class=\"sk-item\"><div class=\"sk-estimator sk-toggleable\"><input class=\"sk-toggleable__control sk-hidden--visually\" id=\"sk-estimator-id-1\" type=\"checkbox\" checked><label for=\"sk-estimator-id-1\" class=\"sk-toggleable__label sk-toggleable__label-arrow\">AdaBoostClassifier</label><div class=\"sk-toggleable__content\"><pre>AdaBoostClassifier(random_state=42)</pre></div></div></div></div></div>"
      ],
      "text/plain": [
       "AdaBoostClassifier(random_state=42)"
      ]
     },
     "execution_count": 9,
     "metadata": {},
     "output_type": "execute_result"
    }
   ],
   "source": [
    "# Apply AdaBoost Classifier \n",
    "\n",
    "from sklearn.ensemble import AdaBoostClassifier\n",
    "ada_clf = AdaBoostClassifier(random_state=42)\n",
    "ada_clf.fit(ds_train.data[ds_train.features], ds_train.data[ds_train.label_name])"
   ]
  },
  {
   "cell_type": "code",
   "execution_count": 10,
   "id": "54f6775d-6ee6-4ad7-a055-0c1d6dbae11d",
   "metadata": {},
   "outputs": [
    {
     "data": {
      "text/html": [
       "<style>#sk-container-id-2 {color: black;background-color: white;}#sk-container-id-2 pre{padding: 0;}#sk-container-id-2 div.sk-toggleable {background-color: white;}#sk-container-id-2 label.sk-toggleable__label {cursor: pointer;display: block;width: 100%;margin-bottom: 0;padding: 0.3em;box-sizing: border-box;text-align: center;}#sk-container-id-2 label.sk-toggleable__label-arrow:before {content: \"▸\";float: left;margin-right: 0.25em;color: #696969;}#sk-container-id-2 label.sk-toggleable__label-arrow:hover:before {color: black;}#sk-container-id-2 div.sk-estimator:hover label.sk-toggleable__label-arrow:before {color: black;}#sk-container-id-2 div.sk-toggleable__content {max-height: 0;max-width: 0;overflow: hidden;text-align: left;background-color: #f0f8ff;}#sk-container-id-2 div.sk-toggleable__content pre {margin: 0.2em;color: black;border-radius: 0.25em;background-color: #f0f8ff;}#sk-container-id-2 input.sk-toggleable__control:checked~div.sk-toggleable__content {max-height: 200px;max-width: 100%;overflow: auto;}#sk-container-id-2 input.sk-toggleable__control:checked~label.sk-toggleable__label-arrow:before {content: \"▾\";}#sk-container-id-2 div.sk-estimator input.sk-toggleable__control:checked~label.sk-toggleable__label {background-color: #d4ebff;}#sk-container-id-2 div.sk-label input.sk-toggleable__control:checked~label.sk-toggleable__label {background-color: #d4ebff;}#sk-container-id-2 input.sk-hidden--visually {border: 0;clip: rect(1px 1px 1px 1px);clip: rect(1px, 1px, 1px, 1px);height: 1px;margin: -1px;overflow: hidden;padding: 0;position: absolute;width: 1px;}#sk-container-id-2 div.sk-estimator {font-family: monospace;background-color: #f0f8ff;border: 1px dotted black;border-radius: 0.25em;box-sizing: border-box;margin-bottom: 0.5em;}#sk-container-id-2 div.sk-estimator:hover {background-color: #d4ebff;}#sk-container-id-2 div.sk-parallel-item::after {content: \"\";width: 100%;border-bottom: 1px solid gray;flex-grow: 1;}#sk-container-id-2 div.sk-label:hover label.sk-toggleable__label {background-color: #d4ebff;}#sk-container-id-2 div.sk-serial::before {content: \"\";position: absolute;border-left: 1px solid gray;box-sizing: border-box;top: 0;bottom: 0;left: 50%;z-index: 0;}#sk-container-id-2 div.sk-serial {display: flex;flex-direction: column;align-items: center;background-color: white;padding-right: 0.2em;padding-left: 0.2em;position: relative;}#sk-container-id-2 div.sk-item {position: relative;z-index: 1;}#sk-container-id-2 div.sk-parallel {display: flex;align-items: stretch;justify-content: center;background-color: white;position: relative;}#sk-container-id-2 div.sk-item::before, #sk-container-id-2 div.sk-parallel-item::before {content: \"\";position: absolute;border-left: 1px solid gray;box-sizing: border-box;top: 0;bottom: 0;left: 50%;z-index: -1;}#sk-container-id-2 div.sk-parallel-item {display: flex;flex-direction: column;z-index: 1;position: relative;background-color: white;}#sk-container-id-2 div.sk-parallel-item:first-child::after {align-self: flex-end;width: 50%;}#sk-container-id-2 div.sk-parallel-item:last-child::after {align-self: flex-start;width: 50%;}#sk-container-id-2 div.sk-parallel-item:only-child::after {width: 0;}#sk-container-id-2 div.sk-dashed-wrapped {border: 1px dashed gray;margin: 0 0.4em 0.5em 0.4em;box-sizing: border-box;padding-bottom: 0.4em;background-color: white;}#sk-container-id-2 div.sk-label label {font-family: monospace;font-weight: bold;display: inline-block;line-height: 1.2em;}#sk-container-id-2 div.sk-label-container {text-align: center;}#sk-container-id-2 div.sk-container {/* jupyter's `normalize.less` sets `[hidden] { display: none; }` but bootstrap.min.css set `[hidden] { display: none !important; }` so we also need the `!important` here to be able to override the default hidden behavior on the sphinx rendered scikit-learn.org. See: https://github.com/scikit-learn/scikit-learn/issues/21755 */display: inline-block !important;position: relative;}#sk-container-id-2 div.sk-text-repr-fallback {display: none;}</style><div id=\"sk-container-id-2\" class=\"sk-top-container\"><div class=\"sk-text-repr-fallback\"><pre>LGBMClassifier(random_state=42)</pre><b>In a Jupyter environment, please rerun this cell to show the HTML representation or trust the notebook. <br />On GitHub, the HTML representation is unable to render, please try loading this page with nbviewer.org.</b></div><div class=\"sk-container\" hidden><div class=\"sk-item\"><div class=\"sk-estimator sk-toggleable\"><input class=\"sk-toggleable__control sk-hidden--visually\" id=\"sk-estimator-id-2\" type=\"checkbox\" checked><label for=\"sk-estimator-id-2\" class=\"sk-toggleable__label sk-toggleable__label-arrow\">LGBMClassifier</label><div class=\"sk-toggleable__content\"><pre>LGBMClassifier(random_state=42)</pre></div></div></div></div></div>"
      ],
      "text/plain": [
       "LGBMClassifier(random_state=42)"
      ]
     },
     "execution_count": 10,
     "metadata": {},
     "output_type": "execute_result"
    }
   ],
   "source": [
    "# Apply LightGBM Classifier\n",
    "from lightgbm import LGBMClassifier\n",
    "lgb_clf = LGBMClassifier(random_state=42)\n",
    "lgb_clf.fit(ds_train.data[ds_train.features], ds_train.data[ds_train.label_name])"
   ]
  },
  {
   "attachments": {},
   "cell_type": "markdown",
   "id": "bd5370f3",
   "metadata": {},
   "source": [
    "## 5-Model Analysis"
   ]
  },
  {
   "attachments": {},
   "cell_type": "markdown",
   "id": "e104da64",
   "metadata": {},
   "source": [
    "Now, lets start with the topic of interest for today---model analysis! You can refer to all the functions available for model validation [here](https://docs.deepchecks.com/stable/tabular/auto_checks/model_evaluation/index.html)."
   ]
  },
  {
   "attachments": {},
   "cell_type": "markdown",
   "id": "df989aca",
   "metadata": {},
   "source": [
    "### Model Info"
   ]
  },
  {
   "attachments": {},
   "cell_type": "markdown",
   "id": "320bb1ab",
   "metadata": {},
   "source": [
    "First, lets gather some information about the fitted models."
   ]
  },
  {
   "cell_type": "code",
   "execution_count": 11,
   "id": "646545da",
   "metadata": {},
   "outputs": [],
   "source": [
    "from deepchecks.tabular.checks import ModelInfo"
   ]
  },
  {
   "cell_type": "code",
   "execution_count": 12,
   "id": "9531e7d2",
   "metadata": {},
   "outputs": [
    {
     "data": {
      "application/vnd.jupyter.widget-view+json": {
       "model_id": "91bc4f1611b74262b8140a706e8342fc",
       "version_major": 2,
       "version_minor": 0
      },
      "text/plain": [
       "VBox(children=(HTML(value='<h4><b>Model Info</b></h4>'), HTML(value='<p>Summarize given model parameters. <a h…"
      ]
     },
     "metadata": {},
     "output_type": "display_data"
    }
   ],
   "source": [
    "ModelInfo().run(lgb_clf)"
   ]
  },
  {
   "cell_type": "code",
   "execution_count": 13,
   "id": "76e6a4cf",
   "metadata": {},
   "outputs": [
    {
     "data": {
      "application/vnd.jupyter.widget-view+json": {
       "model_id": "3ca1c729dbf04f0fa96968605c9c8859",
       "version_major": 2,
       "version_minor": 0
      },
      "text/plain": [
       "VBox(children=(HTML(value='<h4><b>Model Info</b></h4>'), HTML(value='<p>Summarize given model parameters. <a h…"
      ]
     },
     "metadata": {},
     "output_type": "display_data"
    }
   ],
   "source": [
    "ModelInfo().run(ada_clf)"
   ]
  },
  {
   "attachments": {},
   "cell_type": "markdown",
   "id": "4cd6841f",
   "metadata": {},
   "source": [
    "## Inference Times"
   ]
  },
  {
   "attachments": {},
   "cell_type": "markdown",
   "id": "d8cb570a",
   "metadata": {},
   "source": [
    "Inferencing can be important in ML operations. In effect, it is important to assess inferencing times for your models."
   ]
  },
  {
   "cell_type": "code",
   "execution_count": 14,
   "id": "2d463c06",
   "metadata": {},
   "outputs": [],
   "source": [
    "from deepchecks.tabular.checks import ModelInferenceTime"
   ]
  },
  {
   "attachments": {},
   "cell_type": "markdown",
   "id": "2acadbbb",
   "metadata": {},
   "source": []
  },
  {
   "cell_type": "code",
   "execution_count": 15,
   "id": "4b92e048",
   "metadata": {},
   "outputs": [
    {
     "data": {
      "application/vnd.jupyter.widget-view+json": {
       "model_id": "2050ef191efa4fafb8f45cc35a6a52bb",
       "version_major": 2,
       "version_minor": 0
      },
      "text/plain": [
       "VBox(children=(HTML(value='<h4><b>Model Inference Time</b></h4>'), HTML(value='<p>Measure model average infere…"
      ]
     },
     "metadata": {},
     "output_type": "display_data"
    }
   ],
   "source": [
    "ModelInferenceTime().run(ds_test, ada_clf)"
   ]
  },
  {
   "cell_type": "code",
   "execution_count": 16,
   "id": "7dd71460",
   "metadata": {},
   "outputs": [
    {
     "data": {
      "application/vnd.jupyter.widget-view+json": {
       "model_id": "b84ccf70b4794be1bd4c566e2e372161",
       "version_major": 2,
       "version_minor": 0
      },
      "text/plain": [
       "VBox(children=(HTML(value='<h4><b>Model Inference Time</b></h4>'), HTML(value='<p>Measure model average infere…"
      ]
     },
     "metadata": {},
     "output_type": "display_data"
    }
   ],
   "source": [
    "ModelInferenceTime().run(ds_test, lgb_clf)"
   ]
  },
  {
   "attachments": {},
   "cell_type": "markdown",
   "id": "97f516b0",
   "metadata": {},
   "source": [
    "## Model Performance"
   ]
  },
  {
   "attachments": {},
   "cell_type": "markdown",
   "id": "a59756c6",
   "metadata": {},
   "source": [
    "Now, regarding your trained classifiers, you might be interested in the actual performance and therefore refer to the classification report (aka the confusion matrix)."
   ]
  },
  {
   "cell_type": "code",
   "execution_count": 17,
   "id": "fba007b1",
   "metadata": {},
   "outputs": [],
   "source": [
    "from deepchecks.tabular.checks import ConfusionMatrixReport"
   ]
  },
  {
   "cell_type": "code",
   "execution_count": 18,
   "id": "794ad469",
   "metadata": {},
   "outputs": [
    {
     "data": {
      "application/vnd.jupyter.widget-view+json": {
       "model_id": "f1f965d622f94f3c8c6b6c31665020ed",
       "version_major": 2,
       "version_minor": 0
      },
      "text/plain": [
       "VBox(children=(HTML(value='<h4><b>Confusion Matrix Report</b></h4>'), HTML(value='<p>Calculate the confusion m…"
      ]
     },
     "metadata": {},
     "output_type": "display_data"
    }
   ],
   "source": [
    "ConfusionMatrixReport().run(ds_test, lgb_clf).show()"
   ]
  },
  {
   "cell_type": "code",
   "execution_count": 19,
   "id": "2e8e7322",
   "metadata": {},
   "outputs": [
    {
     "data": {
      "application/vnd.jupyter.widget-view+json": {
       "model_id": "84936f116ec7472dbe1a9cdf60da9f06",
       "version_major": 2,
       "version_minor": 0
      },
      "text/plain": [
       "VBox(children=(HTML(value='<h4><b>Confusion Matrix Report</b></h4>'), HTML(value='<p>Calculate the confusion m…"
      ]
     },
     "metadata": {},
     "output_type": "display_data"
    }
   ],
   "source": [
    "ConfusionMatrixReport().run(ds_test, ada_clf).show()"
   ]
  },
  {
   "attachments": {},
   "cell_type": "markdown",
   "id": "e45057cb",
   "metadata": {},
   "source": [
    "You can also define a threshold for missclassifications and create a summary for the model under investigation."
   ]
  },
  {
   "cell_type": "code",
   "execution_count": 20,
   "id": "e6d12ce9",
   "metadata": {},
   "outputs": [
    {
     "data": {
      "application/vnd.jupyter.widget-view+json": {
       "model_id": "e0d4f6160c8f47dfa44f1f7fa02714cd",
       "version_major": 2,
       "version_minor": 0
      },
      "text/plain": [
       "VBox(children=(HTML(value='<h4><b>Confusion Matrix Report</b></h4>'), HTML(value='<p>Calculate the confusion m…"
      ]
     },
     "metadata": {},
     "output_type": "display_data"
    }
   ],
   "source": [
    "# Let's add a condition and re-run the check:\n",
    "ConfusionMatrixReport().add_condition_misclassified_samples_lower_than_condition(misclassified_samples_threshold=0.2).run(ds_test, ada_clf).show()"
   ]
  },
  {
   "attachments": {},
   "cell_type": "markdown",
   "id": "e0dd500e",
   "metadata": {},
   "source": [
    "## Segment Performance (Slicing)"
   ]
  },
  {
   "attachments": {},
   "cell_type": "markdown",
   "id": "f8fa9956",
   "metadata": {},
   "source": [
    "You might also be interested in the models performance for different slices of your data. Please do some experiments for yourself."
   ]
  },
  {
   "cell_type": "code",
   "execution_count": 21,
   "id": "653b619b",
   "metadata": {},
   "outputs": [],
   "source": [
    "from deepchecks.tabular.checks import SegmentPerformance"
   ]
  },
  {
   "cell_type": "code",
   "execution_count": 22,
   "id": "8ed882e5",
   "metadata": {},
   "outputs": [
    {
     "name": "stderr",
     "output_type": "stream",
     "text": [
      "/home/vscode/.local/lib/python3.8/site-packages/deepchecks/tabular/checks/model_evaluation/segment_performance.py:72: DeprecationWarning:\n",
      "\n",
      "The SegmentPerformance check is deprecated and will be removed in the 0.11 version. Please use the WeakSegmentsPerformance check instead.\n",
      "\n"
     ]
    },
    {
     "data": {
      "application/vnd.jupyter.widget-view+json": {
       "model_id": "78953a3adbcc42b3bf6cfaaae1388fee",
       "version_major": 2,
       "version_minor": 0
      },
      "text/plain": [
       "VBox(children=(HTML(value='<h4><b>Segment Performance</b></h4>'), HTML(value='<p>Display performance score seg…"
      ]
     },
     "metadata": {},
     "output_type": "display_data"
    }
   ],
   "source": [
    "SegmentPerformance(feature_1='annual_inc', feature_2='installment').run(ds_test, lgb_clf)"
   ]
  },
  {
   "cell_type": "code",
   "execution_count": 23,
   "id": "179d03fe",
   "metadata": {},
   "outputs": [
    {
     "name": "stderr",
     "output_type": "stream",
     "text": [
      "/home/vscode/.local/lib/python3.8/site-packages/deepchecks/tabular/checks/model_evaluation/segment_performance.py:72: DeprecationWarning:\n",
      "\n",
      "The SegmentPerformance check is deprecated and will be removed in the 0.11 version. Please use the WeakSegmentsPerformance check instead.\n",
      "\n"
     ]
    },
    {
     "data": {
      "application/vnd.jupyter.widget-view+json": {
       "model_id": "b99bcae1640d4611b1626f4a780d98c5",
       "version_major": 2,
       "version_minor": 0
      },
      "text/plain": [
       "VBox(children=(HTML(value='<h4><b>Segment Performance</b></h4>'), HTML(value='<p>Display performance score seg…"
      ]
     },
     "metadata": {},
     "output_type": "display_data"
    }
   ],
   "source": [
    "SegmentPerformance(feature_1='annual_inc', feature_2='installment').run(ds_test, ada_clf)"
   ]
  },
  {
   "attachments": {},
   "cell_type": "markdown",
   "id": "931abe1a",
   "metadata": {},
   "source": [
    "## Feature Importance and Use"
   ]
  },
  {
   "attachments": {},
   "cell_type": "markdown",
   "id": "5846363b",
   "metadata": {},
   "source": [
    "Further interest into your developed models leads you to the question whether there are any features unused by your model(s). "
   ]
  },
  {
   "cell_type": "code",
   "execution_count": 24,
   "id": "3c762944",
   "metadata": {},
   "outputs": [],
   "source": [
    "from deepchecks.tabular.checks import UnusedFeatures"
   ]
  },
  {
   "cell_type": "code",
   "execution_count": 25,
   "id": "24adff9c",
   "metadata": {},
   "outputs": [
    {
     "data": {
      "application/vnd.jupyter.widget-view+json": {
       "model_id": "3090d7d1b9be4d668f64089857f7c3b6",
       "version_major": 2,
       "version_minor": 0
      },
      "text/plain": [
       "VBox(children=(HTML(value='<h4><b>Unused Features</b></h4>'), HTML(value='<p>Detect features that are nearly u…"
      ]
     },
     "metadata": {},
     "output_type": "display_data"
    }
   ],
   "source": [
    "UnusedFeatures(feature_variance_threshold=1.5).run(ds_test, ada_clf).show()"
   ]
  },
  {
   "cell_type": "code",
   "execution_count": 26,
   "id": "aed31a9c",
   "metadata": {},
   "outputs": [
    {
     "data": {
      "application/vnd.jupyter.widget-view+json": {
       "model_id": "ab325b96e89945d2be4c96b99764040f",
       "version_major": 2,
       "version_minor": 0
      },
      "text/plain": [
       "VBox(children=(HTML(value='<h4><b>Unused Features</b></h4>'), HTML(value='<p>Detect features that are nearly u…"
      ]
     },
     "metadata": {},
     "output_type": "display_data"
    }
   ],
   "source": [
    "UnusedFeatures(feature_variance_threshold=1.5).run(ds_test, lgb_clf).show()"
   ]
  },
  {
   "attachments": {},
   "cell_type": "markdown",
   "id": "23406935",
   "metadata": {},
   "source": [
    "## Bias"
   ]
  },
  {
   "attachments": {},
   "cell_type": "markdown",
   "id": "9dd75a35",
   "metadata": {},
   "source": [
    "Lastly, you are curious whether your models are biased. Hence, you assess performance bias with deepchecks for selected features."
   ]
  },
  {
   "cell_type": "code",
   "execution_count": 27,
   "id": "523a9021",
   "metadata": {},
   "outputs": [],
   "source": [
    "from deepchecks.tabular.checks.model_evaluation import PerformanceBias"
   ]
  },
  {
   "cell_type": "code",
   "execution_count": 28,
   "id": "b20e7c54",
   "metadata": {},
   "outputs": [
    {
     "data": {
      "application/vnd.jupyter.widget-view+json": {
       "model_id": "925790f74f1b4d53a9fd8e33098922e8",
       "version_major": 2,
       "version_minor": 0
      },
      "text/plain": [
       "VBox(children=(HTML(value='<h4><b>Performance Bias</b></h4>'), HTML(value='<p>    Check for performance differ…"
      ]
     },
     "metadata": {},
     "output_type": "display_data"
    }
   ],
   "source": [
    "PerformanceBias(protected_feature=\"pub_rec\", control_feature=\"annual_inc\", scorer=\"accuracy\", max_segments=3).run(ds_test, lgb_clf).show()\n"
   ]
  },
  {
   "cell_type": "code",
   "execution_count": 29,
   "id": "1e17f68d",
   "metadata": {},
   "outputs": [],
   "source": [
    "PerformanceBias(protected_feature=\"pub_rec\", control_feature=\"annual_inc\", scorer=\"accuracy\", max_segments=3).run(ds_test, ada_clf).show()\n"
   ]
  },
  {
   "attachments": {},
   "cell_type": "markdown",
   "id": "bfac82f4",
   "metadata": {},
   "source": [
    "Thank you on going through this weeks material concerning model analysis."
   ]
  }
 ],
 "metadata": {
  "kernelspec": {
   "display_name": "Python 3 (ipykernel)",
   "language": "python",
   "name": "python3"
  },
  "language_info": {
   "codemirror_mode": {
    "name": "ipython",
    "version": 3
   },
   "file_extension": ".py",
   "mimetype": "text/x-python",
   "name": "python",
   "nbconvert_exporter": "python",
   "pygments_lexer": "ipython3",
   "version": "3.8.16"
  }
 },
 "nbformat": 4,
 "nbformat_minor": 5
}
